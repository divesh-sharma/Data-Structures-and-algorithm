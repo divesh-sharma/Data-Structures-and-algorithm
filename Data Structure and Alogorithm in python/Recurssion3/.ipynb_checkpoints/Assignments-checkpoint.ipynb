{
 "cells": [
  {
   "cell_type": "code",
   "execution_count": 4,
   "metadata": {},
   "outputs": [
    {
     "name": "stdout",
     "output_type": "stream",
     "text": [
      "2\n",
      "1.75\n"
     ]
    }
   ],
   "source": [
    "## Read input as specified in the question.\n",
    "## Print output as specified in the question.\n",
    "n = int(input())\n",
    "def geometricSum(n):\n",
    "    if(n==0):\n",
    "        return 1;\n",
    "    smallOutput = geometricSum(n-1)\n",
    "    output = smallOutput + float(1/(2**(n)))\n",
    "    return float(output)\n",
    "print(geometricSum(n))"
   ]
  },
  {
   "cell_type": "code",
   "execution_count": 6,
   "metadata": {},
   "outputs": [
    {
     "name": "stdout",
     "output_type": "stream",
     "text": [
      "c\n"
     ]
    }
   ],
   "source": [
    "s='abc'\n",
    "l=len(s)\n",
    "print(s[l-1:l])"
   ]
  },
  {
   "cell_type": "code",
   "execution_count": 23,
   "metadata": {},
   "outputs": [
    {
     "name": "stdout",
     "output_type": "stream",
     "text": [
      "12\n",
      "12\n"
     ]
    }
   ],
   "source": [
    "## Read input as specified in the question.\n",
    "## Print output as specified in the question.\n",
    "s = input()\n",
    "def sToN(s):\n",
    "    if(len(s)==1):\n",
    "        return int(s)\n",
    "    smallOutput = sToN(s[1:])\n",
    "#     print(int((s[0])*(10**(len(s)-1))),\"test1\")\n",
    "    output = smallOutput + (int(s[0])*(10**(len(s)-1)))\n",
    "#     print(output,\"test\")\n",
    "    return output\n",
    "print(sToN(s))                                      \n",
    "    \n",
    "\n",
    "                                      "
   ]
  },
  {
   "cell_type": "code",
   "execution_count": 27,
   "metadata": {},
   "outputs": [
    {
     "name": "stdout",
     "output_type": "stream",
     "text": [
      " <class 'str'>\n"
     ]
    }
   ],
   "source": [
    "s='a'\n",
    "print(s[1:],type(s[1:]))"
   ]
  },
  {
   "cell_type": "code",
   "execution_count": 4,
   "metadata": {},
   "outputs": [
    {
     "data": {
      "text/plain": [
       "'123'"
      ]
     },
     "execution_count": 4,
     "metadata": {},
     "output_type": "execute_result"
    }
   ],
   "source": [
    "s='1234'\n",
    "s[0:len(s)-1]"
   ]
  },
  {
   "cell_type": "code",
   "execution_count": null,
   "metadata": {},
   "outputs": [],
   "source": []
  }
 ],
 "metadata": {
  "kernelspec": {
   "display_name": "Python 3",
   "language": "python",
   "name": "python3"
  },
  "language_info": {
   "codemirror_mode": {
    "name": "ipython",
    "version": 3
   },
   "file_extension": ".py",
   "mimetype": "text/x-python",
   "name": "python",
   "nbconvert_exporter": "python",
   "pygments_lexer": "ipython3",
   "version": "3.7.3"
  }
 },
 "nbformat": 4,
 "nbformat_minor": 2
}
