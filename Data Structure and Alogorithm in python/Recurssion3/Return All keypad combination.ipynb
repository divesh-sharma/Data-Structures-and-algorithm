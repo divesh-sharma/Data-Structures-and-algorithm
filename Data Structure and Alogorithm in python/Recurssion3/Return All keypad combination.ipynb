{
 "cells": [
  {
   "cell_type": "code",
   "execution_count": 2,
   "metadata": {},
   "outputs": [],
   "source": [
    "def getStr(d):\n",
    "    if(d==2):\n",
    "        return 'abc'\n",
    "    if(d==3):\n",
    "        return 'def'\n",
    "    if(d==4):\n",
    "        return 'ghi'\n",
    "    if(d==5):\n",
    "        return 'jkl'\n",
    "    if(d==6):\n",
    "        return 'mno'\n",
    "    if(d==7):\n",
    "        return 'pqrs'\n",
    "    if(d==8):\n",
    "        return 'tuv'\n",
    "    if(d==9):\n",
    "        return 'wxyz'\n",
    "    \n",
    "    return ''"
   ]
  },
  {
   "cell_type": "code",
   "execution_count": 3,
   "metadata": {},
   "outputs": [],
   "source": [
    "def keypad(n):\n",
    "    if(n==0):\n",
    "        output = []\n",
    "        output.append(\"\")\n",
    "        return output\n",
    "    smallerNumber = n//10\n",
    "    lastDigit = n%10\n",
    "    smallOutput = keypad(smallerNumber)\n",
    "    optionsForLastDigit = getStr(lastDigit)\n",
    "    output = []\n",
    "    for s in smallOutput:\n",
    "        for c in optionsForLastDigit:\n",
    "            output.append(s+c)\n",
    "    return output        \n",
    "        \n",
    "    "
   ]
  },
  {
   "cell_type": "code",
   "execution_count": 1,
   "metadata": {},
   "outputs": [
    {
     "ename": "NameError",
     "evalue": "name 'keypad' is not defined",
     "output_type": "error",
     "traceback": [
      "\u001b[0;31m---------------------------------------------------------------------------\u001b[0m",
      "\u001b[0;31mNameError\u001b[0m                                 Traceback (most recent call last)",
      "\u001b[0;32m<ipython-input-1-ecb077f97453>\u001b[0m in \u001b[0;36m<module>\u001b[0;34m\u001b[0m\n\u001b[0;32m----> 1\u001b[0;31m \u001b[0mkeypad\u001b[0m\u001b[0;34m(\u001b[0m\u001b[0;36m2\u001b[0m\u001b[0;34m)\u001b[0m\u001b[0;34m\u001b[0m\u001b[0;34m\u001b[0m\u001b[0m\n\u001b[0m",
      "\u001b[0;31mNameError\u001b[0m: name 'keypad' is not defined"
     ]
    }
   ],
   "source": [
    "keypad(2)"
   ]
  },
  {
   "cell_type": "code",
   "execution_count": 6,
   "metadata": {},
   "outputs": [],
   "source": [
    "def printKeypad(n,outputSoFar):\n",
    "    if(n==0):\n",
    "        print(outputSoFar)\n",
    "        return\n",
    "    smallNumber = n//10\n",
    "    lastDigit = n%10\n",
    "    optionsForLastDigit = getStr(lastDigit)\n",
    "    for c in optionsForLastDigit:\n",
    "        newOutput=outputSoFar+c\n",
    "        printKeypad(smallNumber,newOutput)\n",
    "            \n",
    "    "
   ]
  },
  {
   "cell_type": "code",
   "execution_count": 7,
   "metadata": {},
   "outputs": [
    {
     "name": "stdout",
     "output_type": "stream",
     "text": [
      "gda\n",
      "gdb\n",
      "gdc\n",
      "gea\n",
      "geb\n",
      "gec\n",
      "gfa\n",
      "gfb\n",
      "gfc\n",
      "hda\n",
      "hdb\n",
      "hdc\n",
      "hea\n",
      "heb\n",
      "hec\n",
      "hfa\n",
      "hfb\n",
      "hfc\n",
      "ida\n",
      "idb\n",
      "idc\n",
      "iea\n",
      "ieb\n",
      "iec\n",
      "ifa\n",
      "ifb\n",
      "ifc\n"
     ]
    }
   ],
   "source": [
    "printKeypad(234,'')"
   ]
  },
  {
   "cell_type": "code",
   "execution_count": 3,
   "metadata": {},
   "outputs": [
    {
     "name": "stdout",
     "output_type": "stream",
     "text": [
      "bcad\n"
     ]
    }
   ],
   "source": [
    "str='bcd'\n",
    "i=2\n",
    "print(str[0:i]+'a'+str[i:])\n"
   ]
  },
  {
   "cell_type": "code",
   "execution_count": null,
   "metadata": {},
   "outputs": [],
   "source": []
  }
 ],
 "metadata": {
  "kernelspec": {
   "display_name": "Python 3",
   "language": "python",
   "name": "python3"
  },
  "language_info": {
   "codemirror_mode": {
    "name": "ipython",
    "version": 3
   },
   "file_extension": ".py",
   "mimetype": "text/x-python",
   "name": "python",
   "nbconvert_exporter": "python",
   "pygments_lexer": "ipython3",
   "version": "3.7.3"
  }
 },
 "nbformat": 4,
 "nbformat_minor": 2
}
