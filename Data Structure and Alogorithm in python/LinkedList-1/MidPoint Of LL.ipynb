{
 "cells": [
  {
   "cell_type": "code",
   "execution_count": 1,
   "metadata": {},
   "outputs": [],
   "source": [
    "class Node:\n",
    "    def __init__(self,data):\n",
    "        self.data = data\n",
    "        self.next = None"
   ]
  },
  {
   "cell_type": "code",
   "execution_count": 2,
   "metadata": {},
   "outputs": [],
   "source": [
    "def takeInput():\n",
    "    inputList = [int(ele) for ele in input().split()]\n",
    "    head = None\n",
    "    tail = None\n",
    "    for currData in inputList:\n",
    "        if(currData==-1):\n",
    "            break\n",
    "        newNode = Node(currData)    \n",
    "        if(head is None):\n",
    "            head = newNode\n",
    "            tail = newNode\n",
    "        tail.next = newNode\n",
    "        tail = newNode\n",
    "            \n",
    "    return head    "
   ]
  },
  {
   "cell_type": "code",
   "execution_count": 3,
   "metadata": {},
   "outputs": [],
   "source": [
    "def printNode(head):\n",
    "    tail = head      \n",
    "    while(tail is not None):\n",
    "        print(tail.data,end =' -> ')\n",
    "        tail = tail.next\n",
    "    if(tail is None):\n",
    "        print('None')      "
   ]
  },
  {
   "cell_type": "code",
   "execution_count": 17,
   "metadata": {},
   "outputs": [],
   "source": [
    "def mid(head):\n",
    "    slow = head\n",
    "    fast = head\n",
    "    count=0\n",
    "    resNode = head\n",
    "    while(fast.next is not None and fast.next.next is not None):\n",
    "        count = count + 1\n",
    "      \n",
    "        slow = slow.next\n",
    "        fast = fast.next.next\n",
    "        resNode = slow\n",
    "    return count,resNode.data    \n",
    "        "
   ]
  },
  {
   "cell_type": "code",
   "execution_count": 18,
   "metadata": {},
   "outputs": [
    {
     "name": "stdout",
     "output_type": "stream",
     "text": [
      "1 2 3 4 5 6 -1\n",
      "1 -> 2 -> 3 -> 4 -> 5 -> 6 -> None\n",
      "(2, 3)\n"
     ]
    }
   ],
   "source": [
    "head = takeInput()\n",
    "printNode(head)\n",
    "head=mid(head)\n",
    "# print(head)\n",
    "print(head)"
   ]
  },
  {
   "cell_type": "code",
   "execution_count": 19,
   "metadata": {},
   "outputs": [],
   "source": [
    "def midPoint(head) :\n",
    "    #Your code goes here\n",
    "    \n",
    "    slow = head\n",
    "    fast = head\n",
    "    count=0\n",
    "    resNode = head\n",
    "    while(fast.next is not None and fast.next.next is not None):\n",
    "        count = count + 1      \n",
    "        slow = slow.next\n",
    "        resNode = slow\n",
    "        fast = fast.next.next\n",
    "     \n",
    "        \n",
    "    return resNode"
   ]
  },
  {
   "cell_type": "code",
   "execution_count": 20,
   "metadata": {},
   "outputs": [
    {
     "name": "stdout",
     "output_type": "stream",
     "text": [
      "1 2 3 4 5 6 -1\n",
      "1 -> 2 -> 3 -> 4 -> 5 -> 6 -> None\n",
      "3\n"
     ]
    }
   ],
   "source": [
    "head = takeInput()\n",
    "printNode(head)\n",
    "head=midPoint(head)\n",
    "# print(head)\n",
    "print(head.data)"
   ]
  },
  {
   "cell_type": "markdown",
   "metadata": {},
   "source": [
    "### Merge Sort"
   ]
  },
  {
   "cell_type": "code",
   "execution_count": 22,
   "metadata": {},
   "outputs": [],
   "source": [
    "def merge(h1,h2):\n",
    "    fh=None\n",
    "    ft=None\n",
    "    if(h1.data < h2.data):\n",
    "        fh=h1\n",
    "        ft=h1\n",
    "        h1=h1.next\n",
    "    else:\n",
    "        fh=h2\n",
    "        ft=h2\n",
    "        h2=h2.next\n",
    "    while(h1 is not None and h2 is not None):\n",
    "        if(h1.data<h2.data):\n",
    "            ft.next=h1\n",
    "            ft = ft.next\n",
    "            h1=h1.next\n",
    "        else:\n",
    "            ft.next = h2\n",
    "            ft = ft.next\n",
    "            h2 = h2.next\n",
    "    if(h1 is None):\n",
    "        ft.next = h2\n",
    "    else:\n",
    "        ft.next = h1\n",
    "    return fh    \n",
    "        \n",
    "            \n",
    "            \n",
    "        \n",
    "    \n",
    "    \n",
    "    \n",
    "    \n",
    "    \n",
    "    \n",
    "        \n",
    "        "
   ]
  },
  {
   "cell_type": "code",
   "execution_count": 24,
   "metadata": {},
   "outputs": [
    {
     "name": "stdout",
     "output_type": "stream",
     "text": [
      "1 5 10 15 -1\n",
      "1 -> 4 -> 10 -> 3 -> 15 -> 2 -> 22 -> 6 -> None\n",
      "3 6 9 12 -1\n",
      "3 -> 6 -> 9 -> 12 -> None\n",
      "1 -> 3 -> 5 -> 6 -> 9 -> 10 -> 12 -> 15 -> None\n"
     ]
    }
   ],
   "source": [
    "head1 = takeInput()\n",
    "printNode(head)\n",
    "head2 = takeInput()\n",
    "printNode(head2)\n",
    "head=merge(head1,head2)\n",
    "# print(head)\n",
    "printNode(head)"
   ]
  },
  {
   "cell_type": "code",
   "execution_count": null,
   "metadata": {},
   "outputs": [],
   "source": []
  }
 ],
 "metadata": {
  "kernelspec": {
   "display_name": "Python 3",
   "language": "python",
   "name": "python3"
  },
  "language_info": {
   "codemirror_mode": {
    "name": "ipython",
    "version": 3
   },
   "file_extension": ".py",
   "mimetype": "text/x-python",
   "name": "python",
   "nbconvert_exporter": "python",
   "pygments_lexer": "ipython3",
   "version": "3.7.3"
  }
 },
 "nbformat": 4,
 "nbformat_minor": 2
}
