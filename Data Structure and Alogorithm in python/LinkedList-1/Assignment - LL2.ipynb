{
 "cells": [
  {
   "cell_type": "markdown",
   "metadata": {},
   "source": [
    "### event after odd"
   ]
  },
  {
   "cell_type": "code",
   "execution_count": 1,
   "metadata": {},
   "outputs": [],
   "source": [
    "class Node:\n",
    "    def __init__(self,data):\n",
    "        self.data = data\n",
    "        self.next = None"
   ]
  },
  {
   "cell_type": "code",
   "execution_count": 2,
   "metadata": {},
   "outputs": [],
   "source": [
    "def takeInput():\n",
    "    inputList = [int(ele) for ele in input().split()]\n",
    "    head = None\n",
    "    tail = None\n",
    "    for currData in inputList:\n",
    "        if(currData==-1):\n",
    "            break\n",
    "        newNode = Node(currData)    \n",
    "        if(head is None):\n",
    "            head = newNode\n",
    "            tail = newNode\n",
    "        tail.next = newNode\n",
    "        tail = newNode\n",
    "            \n",
    "    return head    "
   ]
  },
  {
   "cell_type": "code",
   "execution_count": 3,
   "metadata": {},
   "outputs": [],
   "source": [
    "def printNode(head):\n",
    "    tail = head      \n",
    "    while(tail is not None):\n",
    "        print(tail.data,end =' -> ')\n",
    "        tail = tail.next\n",
    "    if(tail is None):\n",
    "        print('None')      "
   ]
  },
  {
   "cell_type": "code",
   "execution_count": 42,
   "metadata": {},
   "outputs": [],
   "source": [
    "def evenAfterOdd(head):\n",
    "    li=[]\n",
    "    newLi=[]\n",
    "    curr = head  \n",
    "    orr = head\n",
    "    if(head is None):\n",
    "        return head\n",
    "    while(head is not None):\n",
    "        li.append(head.data)\n",
    "        head = head.next\n",
    "    for i in li:\n",
    "        if(i%2 !=0):\n",
    "            curr.data = i\n",
    "            curr = curr.next\n",
    "        else:\n",
    "            newLi.append(i)\n",
    "    for i in newLi:\n",
    "        curr.data = i\n",
    "        curr = curr.next\n",
    "    return orr     \n",
    "            \n",
    "        \n",
    "        \n",
    "        "
   ]
  },
  {
   "cell_type": "code",
   "execution_count": 43,
   "metadata": {},
   "outputs": [
    {
     "name": "stdout",
     "output_type": "stream",
     "text": [
      "\n",
      "None\n"
     ]
    },
    {
     "ename": "NameError",
     "evalue": "name 'eventLL' is not defined",
     "output_type": "error",
     "traceback": [
      "\u001b[0;31m---------------------------------------------------------------------------\u001b[0m",
      "\u001b[0;31mNameError\u001b[0m                                 Traceback (most recent call last)",
      "\u001b[0;32m<ipython-input-43-eeba440d2fc2>\u001b[0m in \u001b[0;36m<module>\u001b[0;34m\u001b[0m\n\u001b[1;32m      1\u001b[0m \u001b[0mhead\u001b[0m \u001b[0;34m=\u001b[0m \u001b[0mtakeInput\u001b[0m\u001b[0;34m(\u001b[0m\u001b[0;34m)\u001b[0m\u001b[0;34m\u001b[0m\u001b[0;34m\u001b[0m\u001b[0m\n\u001b[1;32m      2\u001b[0m \u001b[0mprintNode\u001b[0m\u001b[0;34m(\u001b[0m\u001b[0mhead\u001b[0m\u001b[0;34m)\u001b[0m\u001b[0;34m\u001b[0m\u001b[0;34m\u001b[0m\u001b[0m\n\u001b[0;32m----> 3\u001b[0;31m \u001b[0mhead\u001b[0m\u001b[0;34m=\u001b[0m\u001b[0meventLL\u001b[0m\u001b[0;34m(\u001b[0m\u001b[0mhead\u001b[0m\u001b[0;34m)\u001b[0m\u001b[0;34m\u001b[0m\u001b[0;34m\u001b[0m\u001b[0m\n\u001b[0m\u001b[1;32m      4\u001b[0m \u001b[0mprintNode\u001b[0m\u001b[0;34m(\u001b[0m\u001b[0mhead\u001b[0m\u001b[0;34m)\u001b[0m\u001b[0;34m\u001b[0m\u001b[0;34m\u001b[0m\u001b[0m\n",
      "\u001b[0;31mNameError\u001b[0m: name 'eventLL' is not defined"
     ]
    }
   ],
   "source": [
    "head = takeInput()\n",
    "printNode(head)\n",
    "head=eventLL(head)\n",
    "printNode(head)"
   ]
  },
  {
   "cell_type": "code",
   "execution_count": 10,
   "metadata": {},
   "outputs": [
    {
     "ename": "TypeError",
     "evalue": "'list' object cannot be interpreted as an integer",
     "output_type": "error",
     "traceback": [
      "\u001b[0;31m---------------------------------------------------------------------------\u001b[0m",
      "\u001b[0;31mTypeError\u001b[0m                                 Traceback (most recent call last)",
      "\u001b[0;32m<ipython-input-10-a8b7de2ad2be>\u001b[0m in \u001b[0;36m<module>\u001b[0;34m\u001b[0m\n\u001b[1;32m      1\u001b[0m \u001b[0mli\u001b[0m \u001b[0;34m=\u001b[0m \u001b[0;34m[\u001b[0m\u001b[0;36m1\u001b[0m\u001b[0;34m,\u001b[0m\u001b[0;36m2\u001b[0m\u001b[0;34m,\u001b[0m\u001b[0;36m3\u001b[0m\u001b[0;34m,\u001b[0m\u001b[0;36m4\u001b[0m\u001b[0;34m]\u001b[0m\u001b[0;34m\u001b[0m\u001b[0;34m\u001b[0m\u001b[0m\n\u001b[0;32m----> 2\u001b[0;31m \u001b[0;32mfor\u001b[0m \u001b[0mi\u001b[0m \u001b[0;32min\u001b[0m \u001b[0mrange\u001b[0m\u001b[0;34m(\u001b[0m\u001b[0mli\u001b[0m\u001b[0;34m)\u001b[0m\u001b[0;34m:\u001b[0m\u001b[0;34m\u001b[0m\u001b[0;34m\u001b[0m\u001b[0m\n\u001b[0m\u001b[1;32m      3\u001b[0m     \u001b[0mprint\u001b[0m\u001b[0;34m(\u001b[0m\u001b[0mi\u001b[0m\u001b[0;34m)\u001b[0m\u001b[0;34m\u001b[0m\u001b[0;34m\u001b[0m\u001b[0m\n",
      "\u001b[0;31mTypeError\u001b[0m: 'list' object cannot be interpreted as an integer"
     ]
    }
   ],
   "source": []
  },
  {
   "cell_type": "code",
   "execution_count": 18,
   "metadata": {},
   "outputs": [
    {
     "name": "stdout",
     "output_type": "stream",
     "text": [
      "1\n",
      "2\n",
      "3\n",
      "4\n"
     ]
    }
   ],
   "source": [
    "li = [1,2,3,4]\n",
    "for i in range(len(li)):\n",
    "    print(li[i])"
   ]
  },
  {
   "cell_type": "code",
   "execution_count": 21,
   "metadata": {},
   "outputs": [
    {
     "name": "stdout",
     "output_type": "stream",
     "text": [
      "true\n"
     ]
    }
   ],
   "source": [
    "a = False\n",
    "if(a==False):\n",
    "    print('true')"
   ]
  },
  {
   "cell_type": "markdown",
   "metadata": {},
   "source": [
    "### AppendLastToN\n",
    "1 2 3 4 5 -1\n",
    "3\n",
    "3 4 5 1 2\n"
   ]
  },
  {
   "cell_type": "code",
   "execution_count": 3,
   "metadata": {},
   "outputs": [],
   "source": [
    "def appendLast(head,n):\n",
    "    count=0\n",
    "    i=0\n",
    "    curr = head\n",
    "    newHead = None\n",
    "    if(n==0):\n",
    "        return head\n",
    "    if(head is None):\n",
    "        return head\n",
    "    if(head.next is None):\n",
    "        return head\n",
    "    while(head.next is not None):\n",
    "        head = head.next\n",
    "        count = count + 1\n",
    "    head.next = curr\n",
    "    while(i<n-1):\n",
    "        head = head.next \n",
    "        i=i+1\n",
    "    newHead = head.next    \n",
    "    head.next = None\n",
    "    return newHead\n",
    "    \n",
    "    \n",
    "    \n",
    "        \n",
    "        \n",
    "        \n",
    "        \n",
    "    "
   ]
  },
  {
   "cell_type": "code",
   "execution_count": 16,
   "metadata": {},
   "outputs": [
    {
     "name": "stdout",
     "output_type": "stream",
     "text": [
      "1 2 3 4 5 -1\n",
      "1 -> 2 -> 3 -> 4 -> 5 -> None\n",
      "1 -> 2 -> 3 -> 4 -> 5 -> None\n"
     ]
    }
   ],
   "source": [
    "head = takeInput()\n",
    "printNode(head)\n",
    "head=appendLast(head,0)\n",
    "printNode(head)"
   ]
  },
  {
   "cell_type": "markdown",
   "metadata": {},
   "source": [
    "### Eliminates Dublicate\n",
    "1 2 3 3 4 3 4 5 4 5 5 7 -1\n",
    "\n",
    "1 2 3 4 3 4 5 4 5 7 "
   ]
  },
  {
   "cell_type": "code",
   "execution_count": 18,
   "metadata": {},
   "outputs": [],
   "source": [
    "def eliminate(head):\n",
    "    newHead = head\n",
    "    inWhile = False\n",
    "    curr = head\n",
    "    prev=None\n",
    "    \n",
    "    count =0\n",
    "    if(head is None or head.next is None):\n",
    "        return head\n",
    "    \n",
    "    while(head is not None and head.next is not None and head.next is not None):\n",
    "#         print(head.data,head.next.data)\n",
    "        if(prev is not None and prev.data == head.data):\n",
    "            prev.next = head.next  \n",
    "        \n",
    "        \n",
    "        if(head.next is not None  and head.data ==head.next.data):\n",
    "            head.next = head.next.next\n",
    "            prev = head\n",
    "        else:\n",
    "            head = head.next\n",
    "            \n",
    "        \n",
    "        inWhile = True\n",
    "        count = count + 1\n",
    "    if(inWhile==False):\n",
    "        if(curr.data == curr.next.data):\n",
    "            curr.next = None        \n",
    "    return newHead        \n",
    "            \n",
    "    "
   ]
  },
  {
   "cell_type": "code",
   "execution_count": 20,
   "metadata": {
    "scrolled": true
   },
   "outputs": [
    {
     "name": "stdout",
     "output_type": "stream",
     "text": [
      "1 1 2 3 3 4 4 4 5 -1\n",
      "1 -> 1 -> 2 -> 3 -> 3 -> 4 -> 4 -> 4 -> 5 -> None\n",
      "1 -> 2 -> 3 -> 4 -> 5 -> None\n"
     ]
    }
   ],
   "source": [
    "head = takeInput()\n",
    "printNode(head)\n",
    "head=eliminate(head)\n",
    "printNode(head)"
   ]
  },
  {
   "cell_type": "markdown",
   "metadata": {},
   "source": [
    "### Bubble Sort\n",
    "10 9 8 7 6 5 4 3 -1\n",
    "3 4 5 6 7 8 9 10 "
   ]
  },
  {
   "cell_type": "code",
   "execution_count": 79,
   "metadata": {},
   "outputs": [],
   "source": [
    "def bubble_Sort(head):\n",
    "    fast=head.next\n",
    "    slow = head\n",
    "    orr = head\n",
    "    orr1 = head   \n",
    "    temp=0\n",
    "    while(orr1 is not None and orr1.next is not None):\n",
    "#         print(orr.data,\"check slow\")\n",
    "        \n",
    "#         print(fast.data,\"check fast\")\n",
    "        while(slow is not None and fast is not None and fast.next is not None):\n",
    "            if(slow.data < fast.data):\n",
    "                print(fast.data,\"fast\",slow.data,\"slow\",\"----Start----\")\n",
    "                temp=fast.data\n",
    "                fast.data = slow.data\n",
    "                slow.data = temp\n",
    "                print(fast.data,\"fast\",slow.data,\"slow\",\"-----swap----\")\n",
    "            slow = slow.next\n",
    "            fast = fast.next            \n",
    "        orr1 = orr1.next\n",
    "        slow=orr1\n",
    "        fast=orr1.next\n",
    "        \n",
    "    return orr    \n",
    "            \n",
    "            \n",
    "            \n",
    "    \n",
    "    "
   ]
  },
  {
   "cell_type": "code",
   "execution_count": 82,
   "metadata": {},
   "outputs": [
    {
     "name": "stdout",
     "output_type": "stream",
     "text": [
      "10 9 8 2 -1\n",
      "10 -> 9 -> 8 -> 2 -> None\n",
      "10 -> 9 -> 8 -> 2 -> None\n"
     ]
    }
   ],
   "source": [
    "head = takeInput()\n",
    "printNode(head)\n",
    "head=bubble_Sort(head)\n",
    "printNode(head)"
   ]
  },
  {
   "cell_type": "code",
   "execution_count": 87,
   "metadata": {},
   "outputs": [],
   "source": [
    "def swapTwo(head,i,j):\n",
    "    if(i==j or head is None):\n",
    "        return head\n",
    "    count=0\n",
    "    start=None\n",
    "    end = None\n",
    "    temp=None\n",
    "    orr = head         \n",
    "    while(head is not None):\n",
    "        if(i==count):\n",
    "            start=head\n",
    "        elif(j==count):\n",
    "            end=head\n",
    "        head = head.next\n",
    "        count = count +1 \n",
    "    temp=start.data\n",
    "    start.data=end.data\n",
    "    end.data = temp\n",
    "    return orr\n",
    "        "
   ]
  },
  {
   "cell_type": "code",
   "execution_count": 89,
   "metadata": {},
   "outputs": [
    {
     "name": "stdout",
     "output_type": "stream",
     "text": [
      "1 2 3 4 5 6 -1\n",
      "1 -> 2 -> 3 -> 4 -> 5 -> 6 -> None\n",
      "1 -> 2 -> 3 -> 4 -> 5 -> 6 -> None\n"
     ]
    }
   ],
   "source": [
    "head = takeInput()\n",
    "printNode(head)\n",
    "head=swapTwo(head,0,0)\n",
    "printNode(head)"
   ]
  },
  {
   "cell_type": "code",
   "execution_count": 4,
   "metadata": {},
   "outputs": [],
   "source": [
    "def reverseNode(head):\n",
    "    if(head is None or head.next is None):\n",
    "        return head\n",
    "    smallHead = reverseNode(head.next)\n",
    "    tail = head.next\n",
    "    tail.next = head\n",
    "    head.next = None\n",
    "    return smallHead\n",
    "    "
   ]
  },
  {
   "cell_type": "code",
   "execution_count": 92,
   "metadata": {},
   "outputs": [
    {
     "name": "stdout",
     "output_type": "stream",
     "text": [
      "1 2 3 4 5 -1\n",
      "1 -> 2 -> 3 -> 4 -> 5 -> None\n",
      "5 -> 4 -> 3 -> 2 -> 1 -> None\n"
     ]
    }
   ],
   "source": [
    "head = takeInput()\n",
    "printNode(head)\n",
    "head=reverseNode(head)\n",
    "printNode(head)"
   ]
  },
  {
   "cell_type": "code",
   "execution_count": 48,
   "metadata": {},
   "outputs": [],
   "source": [
    "def reverse2(head):\n",
    "    if(head is None or head.next is None):\n",
    "        return head,head\n",
    "    shead,stail = reverse2(head.next)\n",
    "    stail.next = head\n",
    "    head.next = None\n",
    "    return shead,head"
   ]
  },
  {
   "cell_type": "code",
   "execution_count": 118,
   "metadata": {},
   "outputs": [],
   "source": [
    "def kReverse(head,k):\n",
    "    h1=head\n",
    "    t1=head\n",
    "    h2=None\n",
    "    count=1\n",
    "    if(head is None):\n",
    "        return\n",
    "    if(head.next is None):\n",
    "        return head\n",
    "    while(count != k and t1 is not None):\n",
    "        count=count+1\n",
    "        t1=t1.next\n",
    "#         print(count,\"count\",t1.data)\n",
    "    if(count<=k and t1 is not None):\n",
    "        h2=t1.next\n",
    "#         print(h2.data)\n",
    "#         return\n",
    "        t1.next = None\n",
    "#         printNode(h1)\n",
    "#         print(\"Tail start\",t1.data)\n",
    "#         print(\"prev rev\",h1.data)\n",
    "#         printNode(h1)\n",
    "        h1,t1=reverse2(h1)\n",
    "#         print(\"start rev\")\n",
    "#         printNode(h1)\n",
    "#         print(\"Tail End\",t1.data)\n",
    "#         printNode(h1,\"head \",h1.data)\n",
    "    shead = kReverse(h2,k)\n",
    "#     print(\"test start\")\n",
    "    printNode(shead)\n",
    "#     print(\"test End\")\n",
    "    t1.next = shead\n",
    "#     print(\"return Node\",printNode(h1),t1.data)\n",
    "    return h1\n",
    "    \n",
    "      \n",
    "        \n",
    "        \n",
    "    "
   ]
  },
  {
   "cell_type": "code",
   "execution_count": 120,
   "metadata": {},
   "outputs": [
    {
     "name": "stdout",
     "output_type": "stream",
     "text": [
      "1 2 3 4 5 6 7 8 -1\n",
      "1 -> 2 -> 3 -> 4 -> 5 -> 6 -> 7 -> 8 -> None\n",
      "2 count 2\n",
      "1 -> 2 -> None\n",
      "Tail start 2\n",
      "prev rev 1\n",
      "1 -> 2 -> None\n",
      "start rev\n",
      "2 -> 1 -> None\n",
      "Tail End 1\n",
      "2 count 4\n",
      "3 -> 4 -> None\n",
      "Tail start 4\n",
      "prev rev 3\n",
      "3 -> 4 -> None\n",
      "start rev\n",
      "4 -> 3 -> None\n",
      "Tail End 3\n",
      "2 count 6\n",
      "5 -> 6 -> None\n",
      "Tail start 6\n",
      "prev rev 5\n",
      "5 -> 6 -> None\n",
      "start rev\n",
      "6 -> 5 -> None\n",
      "Tail End 5\n",
      "2 count 8\n",
      "7 -> 8 -> None\n",
      "Tail start 8\n",
      "prev rev 7\n",
      "7 -> 8 -> None\n",
      "start rev\n",
      "8 -> 7 -> None\n",
      "Tail End 7\n",
      "test start\n",
      "None\n",
      "test End\n",
      "8 -> 7 -> None\n",
      "return Node None 7\n",
      "test start\n",
      "8 -> 7 -> None\n",
      "test End\n",
      "6 -> 5 -> 8 -> 7 -> None\n",
      "return Node None 5\n",
      "test start\n",
      "6 -> 5 -> 8 -> 7 -> None\n",
      "test End\n",
      "4 -> 3 -> 6 -> 5 -> 8 -> 7 -> None\n",
      "return Node None 3\n",
      "test start\n",
      "4 -> 3 -> 6 -> 5 -> 8 -> 7 -> None\n",
      "test End\n",
      "2 -> 1 -> 4 -> 3 -> 6 -> 5 -> 8 -> 7 -> None\n",
      "return Node None 1\n",
      "2 -> 1 -> 4 -> 3 -> 6 -> 5 -> 8 -> 7 -> None\n"
     ]
    }
   ],
   "source": [
    "head = takeInput()\n",
    "printNode(head)\n",
    "# h1,h2=reverse2(head)\n",
    "# print(\"reverse start\")1 2 3 4 5 6 7 8 -1\n",
    "# printNode(h1)\n",
    "# print(\"reverse end\")\n",
    "head=kReverse(head,2)\n",
    "printNode(head)"
   ]
  },
  {
   "cell_type": "code",
   "execution_count": 75,
   "metadata": {},
   "outputs": [],
   "source": [
    "def bubbleSort(head) :\n",
    "    #Your code goes here\n",
    "    curr = head\n",
    "    prev = None\n",
    "    next1 = None\n",
    "    if(head is None or head.next is None):\n",
    "#         print('check')\n",
    "        return head\n",
    "    print(lenHead(head))\n",
    "    for i in range(1):\n",
    "#         print('Goo')\n",
    "        curr=head\n",
    "        prev=None\n",
    "        next1=None\n",
    "        temp=None\n",
    "#         print('I',i)\n",
    "        while(curr is not None and curr.next is not None):\n",
    "#             print('I',i)\n",
    "            if(prev is None and (curr.data > curr.next.data)):\n",
    "                print(\"prev\",\"first\",i)\n",
    "                next1 = curr.next \n",
    "                curr.next = next1.next\n",
    "#                 curr.next = next1.next\n",
    "                next1.next = curr\n",
    "                prev=next1\n",
    "                curr = next1.next               \n",
    "                head=prev\n",
    "#                 print(prev.data,curr.data,next1.data,\"i\",i)\n",
    "#                 break \n",
    "            elif(curr.next is not None and curr.data > curr.next.data):\n",
    "                prev.next = curr.next\n",
    "                curr.next = curr.next.next\n",
    "                curr.next.next = curr\n",
    "#                 print(prev.data,curr.data,\"i12\",i)\n",
    "                prev = prev.next\n",
    "                curr = prev.next.next\n",
    "            elif((curr.data) < (curr.next.data)):                \n",
    "                prev = curr\n",
    "#                 print(prev.data,\"prev\",\"IO\",i)\n",
    "                curr = curr.next\n",
    "#     print(\"end\") \n",
    "#     print('head',head,\"testing\")\n",
    "    return head  "
   ]
  },
  {
   "cell_type": "code",
   "execution_count": 71,
   "metadata": {},
   "outputs": [],
   "source": [
    "def lenHead(head):\n",
    "    count = 0\n",
    "    while(head is not None):\n",
    "        head = head.next\n",
    "        count = count + 1\n",
    "    return count   "
   ]
  },
  {
   "cell_type": "code",
   "execution_count": 77,
   "metadata": {},
   "outputs": [
    {
     "name": "stdout",
     "output_type": "stream",
     "text": [
      " 2 4 1 3 -1\n",
      "2 -> 4 -> 1 -> 3 -> None\n",
      "4\n"
     ]
    },
    {
     "ename": "KeyboardInterrupt",
     "evalue": "",
     "output_type": "error",
     "traceback": [
      "\u001b[0;31m---------------------------------------------------------------------------\u001b[0m",
      "\u001b[0;31mKeyboardInterrupt\u001b[0m                         Traceback (most recent call last)",
      "\u001b[0;32m<ipython-input-77-56a63ee127dd>\u001b[0m in \u001b[0;36m<module>\u001b[0;34m\u001b[0m\n\u001b[1;32m      1\u001b[0m \u001b[0mhead\u001b[0m \u001b[0;34m=\u001b[0m \u001b[0mtakeInput\u001b[0m\u001b[0;34m(\u001b[0m\u001b[0;34m)\u001b[0m\u001b[0;34m\u001b[0m\u001b[0;34m\u001b[0m\u001b[0m\n\u001b[1;32m      2\u001b[0m \u001b[0mprintNode\u001b[0m\u001b[0;34m(\u001b[0m\u001b[0mhead\u001b[0m\u001b[0;34m)\u001b[0m\u001b[0;34m\u001b[0m\u001b[0;34m\u001b[0m\u001b[0m\n\u001b[0;32m----> 3\u001b[0;31m \u001b[0mhead\u001b[0m\u001b[0;34m=\u001b[0m\u001b[0mbubbleSort\u001b[0m\u001b[0;34m(\u001b[0m\u001b[0mhead\u001b[0m\u001b[0;34m)\u001b[0m\u001b[0;34m\u001b[0m\u001b[0;34m\u001b[0m\u001b[0m\n\u001b[0m\u001b[1;32m      4\u001b[0m \u001b[0;31m# printNode(head)\u001b[0m\u001b[0;34m\u001b[0m\u001b[0;34m\u001b[0m\u001b[0;34m\u001b[0m\u001b[0m\n",
      "\u001b[0;32m<ipython-input-75-25ff42c0a781>\u001b[0m in \u001b[0;36mbubbleSort\u001b[0;34m(head)\u001b[0m\n\u001b[1;32m     28\u001b[0m \u001b[0;31m#                 print(prev.data,curr.data,next1.data,\"i\",i)\u001b[0m\u001b[0;34m\u001b[0m\u001b[0;34m\u001b[0m\u001b[0;34m\u001b[0m\u001b[0m\n\u001b[1;32m     29\u001b[0m \u001b[0;31m#                 break\u001b[0m\u001b[0;34m\u001b[0m\u001b[0;34m\u001b[0m\u001b[0;34m\u001b[0m\u001b[0m\n\u001b[0;32m---> 30\u001b[0;31m             \u001b[0;32melif\u001b[0m\u001b[0;34m(\u001b[0m\u001b[0mcurr\u001b[0m\u001b[0;34m.\u001b[0m\u001b[0mnext\u001b[0m \u001b[0;32mis\u001b[0m \u001b[0;32mnot\u001b[0m \u001b[0;32mNone\u001b[0m \u001b[0;32mand\u001b[0m \u001b[0mcurr\u001b[0m\u001b[0;34m.\u001b[0m\u001b[0mdata\u001b[0m \u001b[0;34m>\u001b[0m \u001b[0mcurr\u001b[0m\u001b[0;34m.\u001b[0m\u001b[0mnext\u001b[0m\u001b[0;34m.\u001b[0m\u001b[0mdata\u001b[0m\u001b[0;34m)\u001b[0m\u001b[0;34m:\u001b[0m\u001b[0;34m\u001b[0m\u001b[0;34m\u001b[0m\u001b[0m\n\u001b[0m\u001b[1;32m     31\u001b[0m                 \u001b[0mprev\u001b[0m\u001b[0;34m.\u001b[0m\u001b[0mnext\u001b[0m \u001b[0;34m=\u001b[0m \u001b[0mcurr\u001b[0m\u001b[0;34m.\u001b[0m\u001b[0mnext\u001b[0m\u001b[0;34m\u001b[0m\u001b[0;34m\u001b[0m\u001b[0m\n\u001b[1;32m     32\u001b[0m                 \u001b[0mcurr\u001b[0m\u001b[0;34m.\u001b[0m\u001b[0mnext\u001b[0m \u001b[0;34m=\u001b[0m \u001b[0mcurr\u001b[0m\u001b[0;34m.\u001b[0m\u001b[0mnext\u001b[0m\u001b[0;34m.\u001b[0m\u001b[0mnext\u001b[0m\u001b[0;34m\u001b[0m\u001b[0;34m\u001b[0m\u001b[0m\n",
      "\u001b[0;31mKeyboardInterrupt\u001b[0m: "
     ]
    }
   ],
   "source": [
    "head = takeInput()\n",
    "printNode(head)\n",
    "head=bubbleSort(head)\n",
    "# printNode(head)"
   ]
  },
  {
   "cell_type": "markdown",
   "metadata": {},
   "source": [
    "##### "
   ]
  },
  {
   "cell_type": "code",
   "execution_count": null,
   "metadata": {},
   "outputs": [],
   "source": []
  }
 ],
 "metadata": {
  "kernelspec": {
   "display_name": "Python 3",
   "language": "python",
   "name": "python3"
  },
  "language_info": {
   "codemirror_mode": {
    "name": "ipython",
    "version": 3
   },
   "file_extension": ".py",
   "mimetype": "text/x-python",
   "name": "python",
   "nbconvert_exporter": "python",
   "pygments_lexer": "ipython3",
   "version": "3.7.3"
  }
 },
 "nbformat": 4,
 "nbformat_minor": 2
}
