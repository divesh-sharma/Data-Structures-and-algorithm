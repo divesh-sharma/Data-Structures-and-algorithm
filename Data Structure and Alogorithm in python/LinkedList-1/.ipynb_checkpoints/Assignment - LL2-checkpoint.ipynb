{
 "cells": [
  {
   "cell_type": "markdown",
   "metadata": {},
   "source": [
    "### event after odd"
   ]
  },
  {
   "cell_type": "code",
   "execution_count": 7,
   "metadata": {},
   "outputs": [],
   "source": [
    "class Node:\n",
    "    def __init__(self,data):\n",
    "        self.data = data\n",
    "        self.next = None"
   ]
  },
  {
   "cell_type": "code",
   "execution_count": 1,
   "metadata": {},
   "outputs": [],
   "source": [
    "def takeInput():\n",
    "    inputList = [int(ele) for ele in input().split()]\n",
    "    head = None\n",
    "    tail = None\n",
    "    for currData in inputList:\n",
    "        if(currData==-1):\n",
    "            break\n",
    "        newNode = Node(currData)    \n",
    "        if(head is None):\n",
    "            head = newNode\n",
    "            tail = newNode\n",
    "        tail.next = newNode\n",
    "        tail = newNode\n",
    "            \n",
    "    return head    "
   ]
  },
  {
   "cell_type": "code",
   "execution_count": 3,
   "metadata": {},
   "outputs": [],
   "source": [
    "def printNode(head):\n",
    "    tail = head      \n",
    "    while(tail is not None):\n",
    "        print(tail.data,end =' -> ')\n",
    "        tail = tail.next\n",
    "    if(tail is None):\n",
    "        print('None')      "
   ]
  },
  {
   "cell_type": "code",
   "execution_count": 15,
   "metadata": {},
   "outputs": [],
   "source": [
    "def evenAfterOdd(head):\n",
    "    li=[]\n",
    "    newLi=[]\n",
    "    curr = head  \n",
    "    orr = head\n",
    "    if(head is None):\n",
    "        return head\n",
    "    while(head is not None):\n",
    "        li.append(head.data)\n",
    "        head = head.next\n",
    "    for i in li:\n",
    "        if(i%2 !=0):\n",
    "            curr.data = i\n",
    "            curr = curr.next\n",
    "        else:\n",
    "            newLi.append(i)\n",
    "    for i in newLi:\n",
    "        curr.data = i\n",
    "        curr = curr.next\n",
    "    return orr     \n",
    "            \n",
    "        \n",
    "        \n",
    "        "
   ]
  },
  {
   "cell_type": "code",
   "execution_count": 17,
   "metadata": {},
   "outputs": [
    {
     "name": "stdout",
     "output_type": "stream",
     "text": [
      "2 4 8 7 5 -1\n",
      "2 -> 4 -> 8 -> 7 -> 5 -> None\n",
      "7 -> 5 -> 2 -> 4 -> 8 -> None\n"
     ]
    }
   ],
   "source": [
    "head = takeInput()\n",
    "printNode(head)\n",
    "head=eventLL(head)\n",
    "printNode(head)"
   ]
  },
  {
   "cell_type": "code",
   "execution_count": 10,
   "metadata": {},
   "outputs": [
    {
     "ename": "TypeError",
     "evalue": "'list' object cannot be interpreted as an integer",
     "output_type": "error",
     "traceback": [
      "\u001b[0;31m---------------------------------------------------------------------------\u001b[0m",
      "\u001b[0;31mTypeError\u001b[0m                                 Traceback (most recent call last)",
      "\u001b[0;32m<ipython-input-10-a8b7de2ad2be>\u001b[0m in \u001b[0;36m<module>\u001b[0;34m\u001b[0m\n\u001b[1;32m      1\u001b[0m \u001b[0mli\u001b[0m \u001b[0;34m=\u001b[0m \u001b[0;34m[\u001b[0m\u001b[0;36m1\u001b[0m\u001b[0;34m,\u001b[0m\u001b[0;36m2\u001b[0m\u001b[0;34m,\u001b[0m\u001b[0;36m3\u001b[0m\u001b[0;34m,\u001b[0m\u001b[0;36m4\u001b[0m\u001b[0;34m]\u001b[0m\u001b[0;34m\u001b[0m\u001b[0;34m\u001b[0m\u001b[0m\n\u001b[0;32m----> 2\u001b[0;31m \u001b[0;32mfor\u001b[0m \u001b[0mi\u001b[0m \u001b[0;32min\u001b[0m \u001b[0mrange\u001b[0m\u001b[0;34m(\u001b[0m\u001b[0mli\u001b[0m\u001b[0;34m)\u001b[0m\u001b[0;34m:\u001b[0m\u001b[0;34m\u001b[0m\u001b[0;34m\u001b[0m\u001b[0m\n\u001b[0m\u001b[1;32m      3\u001b[0m     \u001b[0mprint\u001b[0m\u001b[0;34m(\u001b[0m\u001b[0mi\u001b[0m\u001b[0;34m)\u001b[0m\u001b[0;34m\u001b[0m\u001b[0;34m\u001b[0m\u001b[0m\n",
      "\u001b[0;31mTypeError\u001b[0m: 'list' object cannot be interpreted as an integer"
     ]
    }
   ],
   "source": []
  },
  {
   "cell_type": "code",
   "execution_count": 18,
   "metadata": {},
   "outputs": [
    {
     "name": "stdout",
     "output_type": "stream",
     "text": [
      "1\n",
      "2\n",
      "3\n",
      "4\n"
     ]
    }
   ],
   "source": [
    "li = [1,2,3,4]\n",
    "for i in range(len(li)):\n",
    "    print(li[i])"
   ]
  },
  {
   "cell_type": "code",
   "execution_count": 21,
   "metadata": {},
   "outputs": [
    {
     "name": "stdout",
     "output_type": "stream",
     "text": [
      "true\n"
     ]
    }
   ],
   "source": [
    "a = False\n",
    "if(a==False):\n",
    "    print('true')"
   ]
  },
  {
   "cell_type": "markdown",
   "metadata": {},
   "source": [
    "### AppendLastToN\n",
    "1 2 3 4 5 -1\n",
    "3\n",
    "3 4 5 1 2\n"
   ]
  },
  {
   "cell_type": "code",
   "execution_count": 3,
   "metadata": {},
   "outputs": [],
   "source": [
    "def appendLast(head,n):\n",
    "    count=0\n",
    "    i=0\n",
    "    curr = head\n",
    "    newHead = None\n",
    "    if(n==0):\n",
    "        return head\n",
    "    if(head is None):\n",
    "        return head\n",
    "    if(head.next is None):\n",
    "        return head\n",
    "    while(head.next is not None):\n",
    "        head = head.next\n",
    "        count = count + 1\n",
    "    head.next = curr\n",
    "    while(i<n-1):\n",
    "        head = head.next \n",
    "        i=i+1\n",
    "    newHead = head.next    \n",
    "    head.next = None\n",
    "    return newHead\n",
    "    \n",
    "    \n",
    "    \n",
    "        \n",
    "        \n",
    "        \n",
    "        \n",
    "    "
   ]
  },
  {
   "cell_type": "code",
   "execution_count": 16,
   "metadata": {},
   "outputs": [
    {
     "name": "stdout",
     "output_type": "stream",
     "text": [
      "1 2 3 4 5 -1\n",
      "1 -> 2 -> 3 -> 4 -> 5 -> None\n",
      "1 -> 2 -> 3 -> 4 -> 5 -> None\n"
     ]
    }
   ],
   "source": [
    "head = takeInput()\n",
    "printNode(head)\n",
    "head=appendLast(head,0)\n",
    "printNode(head)"
   ]
  },
  {
   "cell_type": "markdown",
   "metadata": {},
   "source": [
    "### Eliminates Dublicate\n",
    "1 2 3 3 4 3 4 5 4 5 5 7 -1\n",
    "\n",
    "1 2 3 4 3 4 5 4 5 7 "
   ]
  },
  {
   "cell_type": "code",
   "execution_count": 18,
   "metadata": {},
   "outputs": [],
   "source": [
    "def eliminate(head):\n",
    "    newHead = head\n",
    "    inWhile = False\n",
    "    curr = head\n",
    "    prev=None\n",
    "    \n",
    "    count =0\n",
    "    if(head is None or head.next is None):\n",
    "        return head\n",
    "    \n",
    "    while(head is not None and head.next is not None and head.next is not None):\n",
    "#         print(head.data,head.next.data)\n",
    "        if(prev is not None and prev.data == head.data):\n",
    "            prev.next = head.next  \n",
    "        \n",
    "        \n",
    "        if(head.next is not None  and head.data ==head.next.data):\n",
    "            head.next = head.next.next\n",
    "            prev = head\n",
    "        else:\n",
    "            head = head.next\n",
    "            \n",
    "        \n",
    "        inWhile = True\n",
    "        count = count + 1\n",
    "    if(inWhile==False):\n",
    "        if(curr.data == curr.next.data):\n",
    "            curr.next = None        \n",
    "    return newHead        \n",
    "            \n",
    "    "
   ]
  },
  {
   "cell_type": "code",
   "execution_count": 20,
   "metadata": {
    "scrolled": true
   },
   "outputs": [
    {
     "name": "stdout",
     "output_type": "stream",
     "text": [
      "1 1 2 3 3 4 4 4 5 -1\n",
      "1 -> 1 -> 2 -> 3 -> 3 -> 4 -> 4 -> 4 -> 5 -> None\n",
      "1 -> 2 -> 3 -> 4 -> 5 -> None\n"
     ]
    }
   ],
   "source": [
    "head = takeInput()\n",
    "printNode(head)\n",
    "head=eliminate(head)\n",
    "printNode(head)"
   ]
  },
  {
   "cell_type": "markdown",
   "metadata": {},
   "source": [
    "### Bubble Sort\n",
    "10 9 8 7 6 5 4 3 -1\n",
    "3 4 5 6 7 8 9 10 "
   ]
  },
  {
   "cell_type": "code",
   "execution_count": 79,
   "metadata": {},
   "outputs": [],
   "source": [
    "def bubble_Sort(head):\n",
    "    fast=head.next\n",
    "    slow = head\n",
    "    orr = head\n",
    "    orr1 = head   \n",
    "    temp=0\n",
    "    while(orr1 is not None and orr1.next is not None):\n",
    "#         print(orr.data,\"check slow\")\n",
    "        \n",
    "#         print(fast.data,\"check fast\")\n",
    "        while(slow is not None and fast is not None and fast.next is not None):\n",
    "            if(slow.data < fast.data):\n",
    "                print(fast.data,\"fast\",slow.data,\"slow\",\"----Start----\")\n",
    "                temp=fast.data\n",
    "                fast.data = slow.data\n",
    "                slow.data = temp\n",
    "                print(fast.data,\"fast\",slow.data,\"slow\",\"-----swap----\")\n",
    "            slow = slow.next\n",
    "            fast = fast.next            \n",
    "        orr1 = orr1.next\n",
    "        slow=orr1\n",
    "        fast=orr1.next\n",
    "        \n",
    "    return orr    \n",
    "            \n",
    "            \n",
    "            \n",
    "    \n",
    "    "
   ]
  },
  {
   "cell_type": "code",
   "execution_count": 82,
   "metadata": {},
   "outputs": [
    {
     "name": "stdout",
     "output_type": "stream",
     "text": [
      "10 9 8 2 -1\n",
      "10 -> 9 -> 8 -> 2 -> None\n",
      "10 -> 9 -> 8 -> 2 -> None\n"
     ]
    }
   ],
   "source": [
    "head = takeInput()\n",
    "printNode(head)\n",
    "head=bubble_Sort(head)\n",
    "printNode(head)"
   ]
  },
  {
   "cell_type": "code",
   "execution_count": 87,
   "metadata": {},
   "outputs": [],
   "source": [
    "def swapTwo(head,i,j):\n",
    "    if(i==j or head is None):\n",
    "        return head\n",
    "    count=0\n",
    "    start=None\n",
    "    end = None\n",
    "    temp=None\n",
    "    orr = head         \n",
    "    while(head is not None):\n",
    "        if(i==count):\n",
    "            start=head\n",
    "        elif(j==count):\n",
    "            end=head\n",
    "        head = head.next\n",
    "        count = count +1 \n",
    "    temp=start.data\n",
    "    start.data=end.data\n",
    "    end.data = temp\n",
    "    return orr\n",
    "        "
   ]
  },
  {
   "cell_type": "code",
   "execution_count": 89,
   "metadata": {},
   "outputs": [
    {
     "name": "stdout",
     "output_type": "stream",
     "text": [
      "1 2 3 4 5 6 -1\n",
      "1 -> 2 -> 3 -> 4 -> 5 -> 6 -> None\n",
      "1 -> 2 -> 3 -> 4 -> 5 -> 6 -> None\n"
     ]
    }
   ],
   "source": [
    "head = takeInput()\n",
    "printNode(head)\n",
    "head=swapTwo(head,0,0)\n",
    "printNode(head)"
   ]
  },
  {
   "cell_type": "code",
   "execution_count": 101,
   "metadata": {},
   "outputs": [],
   "source": [
    "def reverseNode(head):\n",
    "    if(head is None or head.next is None):\n",
    "        return head\n",
    "    smallHead = reverseNode(head.next)\n",
    "    tail = head.next\n",
    "    tail.next = head\n",
    "    head.next = None\n",
    "    return smallHead\n",
    "    "
   ]
  },
  {
   "cell_type": "code",
   "execution_count": 92,
   "metadata": {},
   "outputs": [
    {
     "name": "stdout",
     "output_type": "stream",
     "text": [
      "1 2 3 4 5 -1\n",
      "1 -> 2 -> 3 -> 4 -> 5 -> None\n",
      "5 -> 4 -> 3 -> 2 -> 1 -> None\n"
     ]
    }
   ],
   "source": [
    "head = takeInput()\n",
    "printNode(head)\n",
    "head=reverseNode(head)\n",
    "printNode(head)"
   ]
  },
  {
   "cell_type": "code",
   "execution_count": 102,
   "metadata": {},
   "outputs": [],
   "source": [
    "def kReverse(head,k):\n",
    "    orr = head\n",
    "    curr = head\n",
    "    orr = head\n",
    "    prev = head\n",
    "    first = False\n",
    "    smallHead=None\n",
    "    count=0\n",
    "    if(head is None or k==0):\n",
    "        return head\n",
    "    while(head is not None):\n",
    "        if(k==(count-1)):\n",
    "            head.next=None\n",
    "            prev = head\n",
    "            smallHead = reverseNode(curr.)\n",
    "            \n",
    "            if(first==False):\n",
    "                orr=smallHead\n",
    "                first =True\n",
    "            prev.next = smallHead\n",
    "            count=-1\n",
    "        count = count + 1\n",
    "        head = head.next\n",
    "    return orr     \n",
    "        \n",
    "        \n",
    "    "
   ]
  },
  {
   "cell_type": "code",
   "execution_count": 100,
   "metadata": {},
   "outputs": [
    {
     "name": "stdout",
     "output_type": "stream",
     "text": [
      "1 2 3 4 5 6 7 8 9 10 -1\n",
      "1 -> 2 -> 3 -> 4 -> 5 -> 6 -> 7 -> 8 -> 9 -> 10 -> None\n"
     ]
    },
    {
     "name": "stderr",
     "output_type": "stream",
     "text": [
      "ERROR:root:Internal Python error in the inspect module.\n",
      "Below is the traceback from this internal error.\n",
      "\n"
     ]
    },
    {
     "name": "stdout",
     "output_type": "stream",
     "text": [
      "Traceback (most recent call last):\n",
      "  File \"/snap/jupyter/6/lib/python3.7/site-packages/IPython/core/interactiveshell.py\", line 3296, in run_code\n",
      "    exec(code_obj, self.user_global_ns, self.user_ns)\n",
      "  File \"<ipython-input-100-7acb900d4611>\", line 3, in <module>\n",
      "    head=kReverse(head,4)\n",
      "  File \"<ipython-input-99-763d31c53965>\", line 12, in kReverse\n",
      "    smallHead = reverseNode(head)\n",
      "  File \"<ipython-input-91-6ed461493f44>\", line 4, in reverseNode\n",
      "    smallHead = reverseNode(head.next)\n",
      "  File \"<ipython-input-91-6ed461493f44>\", line 4, in reverseNode\n",
      "    smallHead = reverseNode(head.next)\n",
      "  File \"<ipython-input-91-6ed461493f44>\", line 4, in reverseNode\n",
      "    smallHead = reverseNode(head.next)\n",
      "  [Previous line repeated 2957 more times]\n",
      "RecursionError: maximum recursion depth exceeded\n",
      "\n",
      "During handling of the above exception, another exception occurred:\n",
      "\n",
      "Traceback (most recent call last):\n",
      "  File \"/snap/jupyter/6/lib/python3.7/site-packages/IPython/core/interactiveshell.py\", line 2033, in showtraceback\n",
      "    stb = value._render_traceback_()\n",
      "AttributeError: 'RecursionError' object has no attribute '_render_traceback_'\n",
      "\n",
      "During handling of the above exception, another exception occurred:\n",
      "\n",
      "Traceback (most recent call last):\n",
      "  File \"/snap/jupyter/6/lib/python3.7/genericpath.py\", line 19, in exists\n",
      "    os.stat(path)\n",
      "FileNotFoundError: [Errno 2] No such file or directory: '<ipython-input-91-6ed461493f44>'\n",
      "\n",
      "During handling of the above exception, another exception occurred:\n",
      "\n",
      "Traceback (most recent call last):\n",
      "  File \"/snap/jupyter/6/lib/python3.7/site-packages/IPython/core/ultratb.py\", line 1095, in get_records\n",
      "    return _fixed_getinnerframes(etb, number_of_lines_of_context, tb_offset)\n",
      "  File \"/snap/jupyter/6/lib/python3.7/site-packages/IPython/core/ultratb.py\", line 313, in wrapped\n",
      "    return f(*args, **kwargs)\n",
      "  File \"/snap/jupyter/6/lib/python3.7/site-packages/IPython/core/ultratb.py\", line 347, in _fixed_getinnerframes\n",
      "    records = fix_frame_records_filenames(inspect.getinnerframes(etb, context))\n",
      "  File \"/snap/jupyter/6/lib/python3.7/inspect.py\", line 1502, in getinnerframes\n",
      "    frameinfo = (tb.tb_frame,) + getframeinfo(tb, context)\n",
      "  File \"/snap/jupyter/6/lib/python3.7/inspect.py\", line 1464, in getframeinfo\n",
      "    lines, lnum = findsource(frame)\n",
      "  File \"/snap/jupyter/6/lib/python3.7/site-packages/IPython/core/ultratb.py\", line 167, in findsource\n",
      "    file = getsourcefile(object) or getfile(object)\n",
      "  File \"/snap/jupyter/6/lib/python3.7/inspect.py\", line 693, in getsourcefile\n",
      "    if os.path.exists(filename):\n",
      "  File \"/snap/jupyter/6/lib/python3.7/genericpath.py\", line 19, in exists\n",
      "    os.stat(path)\n",
      "KeyboardInterrupt\n"
     ]
    },
    {
     "ename": "RecursionError",
     "evalue": "maximum recursion depth exceeded",
     "output_type": "error",
     "traceback": [
      "\u001b[0;31m---------------------------------------------------------------------------\u001b[0m"
     ]
    }
   ],
   "source": [
    "head = takeInput()\n",
    "printNode(head)\n",
    "head=kReverse(head,4)\n",
    "printNode(head)"
   ]
  },
  {
   "cell_type": "code",
   "execution_count": 35,
   "metadata": {},
   "outputs": [],
   "source": [
    "def bubbleSort(head) :\n",
    "    #Your code goes here\n",
    "    curr = head\n",
    "    prev = None\n",
    "    next1 = None\n",
    "    if(head is None or head.next is None):\n",
    "        print('check')\n",
    "        return head\n",
    "    print(lenHead(head))\n",
    "    for i in range(lenHead(head)):\n",
    "#         print('Goo')\n",
    "        curr=head\n",
    "        prev=None\n",
    "        next1=None\n",
    "        temp=None\n",
    "#         print('I',i)\n",
    "        while(curr is not None and curr.next is not None):\n",
    "#             print('I',i)\n",
    "            if(prev is None and curr.data > curr.next.data):\n",
    "                next1 = curr.next\n",
    "                curr.next = next1.next\n",
    "                next1.next = curr\n",
    "                prev=next1\n",
    "                temp = next1\n",
    "                next1= curr\n",
    "                curr=temp\n",
    "                next1=next1.next\n",
    "                curr=curr.next\n",
    "                head=prev\n",
    "                print(prev.data,curr.data,next1.data,\"i\",i)\n",
    "#                 break \n",
    "            elif(curr.next is not None and curr.next.next is not None and curr.data > curr.next.data):\n",
    "                prev.next = curr.next\n",
    "                curr.next = curr.next.next\n",
    "                curr.next.next = curr\n",
    "                print(prev.data,curr.data,\"i\",i)\n",
    "                prev = prev.next\n",
    "                curr = prev.next.next\n",
    "            elif(curr is not None):\n",
    "                prev = curr\n",
    "                curr = curr.next\n",
    "#     print(\"end\") \n",
    "    print('head',head)\n",
    "    return head  "
   ]
  },
  {
   "cell_type": "code",
   "execution_count": 10,
   "metadata": {},
   "outputs": [],
   "source": [
    "def lenHead(head):\n",
    "    count = 0\n",
    "    while(head is not None):\n",
    "        head = head.next\n",
    "        count = count + 1\n",
    "    return count   "
   ]
  },
  {
   "cell_type": "code",
   "execution_count": 36,
   "metadata": {},
   "outputs": [
    {
     "name": "stdout",
     "output_type": "stream",
     "text": [
      "5 4 3 2 1 -1\n",
      "5 -> 4 -> 3 -> 2 -> 1 -> None\n",
      "5\n",
      "4 5 3 i 0\n",
      "4 5 i 0\n",
      "3 5 i 0\n"
     ]
    },
    {
     "ename": "KeyboardInterrupt",
     "evalue": "",
     "output_type": "error",
     "traceback": [
      "\u001b[0;31m---------------------------------------------------------------------------\u001b[0m",
      "\u001b[0;31mKeyboardInterrupt\u001b[0m                         Traceback (most recent call last)",
      "\u001b[0;32m<ipython-input-36-f07d14303b04>\u001b[0m in \u001b[0;36m<module>\u001b[0;34m\u001b[0m\n\u001b[1;32m      1\u001b[0m \u001b[0mhead\u001b[0m \u001b[0;34m=\u001b[0m \u001b[0mtakeInput\u001b[0m\u001b[0;34m(\u001b[0m\u001b[0;34m)\u001b[0m\u001b[0;34m\u001b[0m\u001b[0;34m\u001b[0m\u001b[0m\n\u001b[1;32m      2\u001b[0m \u001b[0mprintNode\u001b[0m\u001b[0;34m(\u001b[0m\u001b[0mhead\u001b[0m\u001b[0;34m)\u001b[0m\u001b[0;34m\u001b[0m\u001b[0;34m\u001b[0m\u001b[0m\n\u001b[0;32m----> 3\u001b[0;31m \u001b[0mhead\u001b[0m\u001b[0;34m=\u001b[0m\u001b[0mbubbleSort\u001b[0m\u001b[0;34m(\u001b[0m\u001b[0mhead\u001b[0m\u001b[0;34m)\u001b[0m\u001b[0;34m\u001b[0m\u001b[0;34m\u001b[0m\u001b[0m\n\u001b[0m\u001b[1;32m      4\u001b[0m \u001b[0mprintNode\u001b[0m\u001b[0;34m(\u001b[0m\u001b[0mhead\u001b[0m\u001b[0;34m)\u001b[0m\u001b[0;34m\u001b[0m\u001b[0;34m\u001b[0m\u001b[0m\n",
      "\u001b[0;32m<ipython-input-35-d3d8c0c4909e>\u001b[0m in \u001b[0;36mbubbleSort\u001b[0;34m(head)\u001b[0m\n\u001b[1;32m     15\u001b[0m         \u001b[0mtemp\u001b[0m\u001b[0;34m=\u001b[0m\u001b[0;32mNone\u001b[0m\u001b[0;34m\u001b[0m\u001b[0;34m\u001b[0m\u001b[0m\n\u001b[1;32m     16\u001b[0m \u001b[0;31m#         print('I',i)\u001b[0m\u001b[0;34m\u001b[0m\u001b[0;34m\u001b[0m\u001b[0;34m\u001b[0m\u001b[0m\n\u001b[0;32m---> 17\u001b[0;31m         \u001b[0;32mwhile\u001b[0m\u001b[0;34m(\u001b[0m\u001b[0mcurr\u001b[0m \u001b[0;32mis\u001b[0m \u001b[0;32mnot\u001b[0m \u001b[0;32mNone\u001b[0m \u001b[0;32mand\u001b[0m \u001b[0mcurr\u001b[0m\u001b[0;34m.\u001b[0m\u001b[0mnext\u001b[0m \u001b[0;32mis\u001b[0m \u001b[0;32mnot\u001b[0m \u001b[0;32mNone\u001b[0m\u001b[0;34m)\u001b[0m\u001b[0;34m:\u001b[0m\u001b[0;34m\u001b[0m\u001b[0;34m\u001b[0m\u001b[0m\n\u001b[0m\u001b[1;32m     18\u001b[0m \u001b[0;31m#             print('I',i)\u001b[0m\u001b[0;34m\u001b[0m\u001b[0;34m\u001b[0m\u001b[0;34m\u001b[0m\u001b[0m\n\u001b[1;32m     19\u001b[0m             \u001b[0;32mif\u001b[0m\u001b[0;34m(\u001b[0m\u001b[0mprev\u001b[0m \u001b[0;32mis\u001b[0m \u001b[0;32mNone\u001b[0m \u001b[0;32mand\u001b[0m \u001b[0mcurr\u001b[0m\u001b[0;34m.\u001b[0m\u001b[0mdata\u001b[0m \u001b[0;34m>\u001b[0m \u001b[0mcurr\u001b[0m\u001b[0;34m.\u001b[0m\u001b[0mnext\u001b[0m\u001b[0;34m.\u001b[0m\u001b[0mdata\u001b[0m\u001b[0;34m)\u001b[0m\u001b[0;34m:\u001b[0m\u001b[0;34m\u001b[0m\u001b[0;34m\u001b[0m\u001b[0m\n",
      "\u001b[0;31mKeyboardInterrupt\u001b[0m: "
     ]
    }
   ],
   "source": [
    "head = takeInput()\n",
    "printNode(head)\n",
    "head=bubbleSort(head)\n",
    "printNode(head)"
   ]
  },
  {
   "cell_type": "code",
   "execution_count": null,
   "metadata": {},
   "outputs": [],
   "source": []
  }
 ],
 "metadata": {
  "kernelspec": {
   "display_name": "Python 3",
   "language": "python",
   "name": "python3"
  },
  "language_info": {
   "codemirror_mode": {
    "name": "ipython",
    "version": 3
   },
   "file_extension": ".py",
   "mimetype": "text/x-python",
   "name": "python",
   "nbconvert_exporter": "python",
   "pygments_lexer": "ipython3",
   "version": "3.7.3"
  }
 },
 "nbformat": 4,
 "nbformat_minor": 2
}
