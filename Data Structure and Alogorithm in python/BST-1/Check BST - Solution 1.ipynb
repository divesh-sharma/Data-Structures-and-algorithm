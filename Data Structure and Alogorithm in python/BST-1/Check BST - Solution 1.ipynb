{
 "cells": [
  {
   "cell_type": "code",
   "execution_count": 1,
   "metadata": {},
   "outputs": [],
   "source": [
    "class BinaryTreeNode:\n",
    "    \n",
    "    def __init__(self,data):\n",
    "        self.data = data\n",
    "        self.left = None\n",
    "        self.right= None"
   ]
  },
  {
   "cell_type": "code",
   "execution_count": 11,
   "metadata": {},
   "outputs": [],
   "source": [
    "def printTree(root):\n",
    "    if(root == None):\n",
    "        return\n",
    "    print(root.data,end=\":\")\n",
    "    if(root.left is not None):\n",
    "        print(\"L\",root.left.data,end=\",\")\n",
    "    if(root.right is not None):\n",
    "        print(\"R\",root.right.data,end=\"\") \n",
    "    print()    \n",
    "    printTree(root.left)\n",
    "    printTree(root.right)"
   ]
  },
  {
   "cell_type": "code",
   "execution_count": 3,
   "metadata": {},
   "outputs": [],
   "source": [
    "def treeInput():\n",
    "    rootData = int(input())\n",
    "    if(rootData is -1):\n",
    "        return\n",
    "    root = BinaryTreeNode(rootData)\n",
    "    leftTree = treeInput()\n",
    "    rightTree = treeInput()\n",
    "    root.left = leftTree\n",
    "    root.right = rightTree\n",
    "    return root\n",
    "    \n",
    "    "
   ]
  },
  {
   "cell_type": "code",
   "execution_count": 6,
   "metadata": {},
   "outputs": [],
   "source": [
    "def maxTree(root):\n",
    "    if(root is None):\n",
    "        return -1000000\n",
    "    leftMax = maxTree(root.left)\n",
    "    rightMax = maxTree(root.right)\n",
    "    return max(leftMax,rightMax,root.data)"
   ]
  },
  {
   "cell_type": "code",
   "execution_count": 7,
   "metadata": {},
   "outputs": [],
   "source": [
    "def minTree(root):\n",
    "    if(root is None):\n",
    "        return 1000000\n",
    "    leftMin = minTree(root.left)\n",
    "    rightMin = minTree(root.right)\n",
    "    return max(leftMin,rightMin,root.data)"
   ]
  },
  {
   "cell_type": "code",
   "execution_count": 18,
   "metadata": {},
   "outputs": [],
   "source": [
    "def isBst(root):\n",
    "    if(root is None):\n",
    "        return True\n",
    "    leftMax = maxTree(root.left)\n",
    "    rightMin = minTree(root.right)\n",
    "    leftBst = isBst(root.left)\n",
    "    rightBst = isBst(root.right)\n",
    "    if(leftMax > root.data or rightMin <= root.data):\n",
    "        return False\n",
    "    else:\n",
    "        return leftBst and rightBst"
   ]
  },
  {
   "cell_type": "code",
   "execution_count": 23,
   "metadata": {},
   "outputs": [
    {
     "name": "stdout",
     "output_type": "stream",
     "text": [
      "4\n",
      "10\n",
      "-1\n",
      "-1\n",
      "5\n",
      "-1\n",
      "-1\n",
      "4:L 10,R 5\n",
      "10:\n",
      "5:\n",
      "False\n"
     ]
    }
   ],
   "source": [
    "root = treeInput()\n",
    "printTree(root)\n",
    "print(isBst(root))"
   ]
  },
  {
   "cell_type": "markdown",
   "metadata": {},
   "source": [
    "## BST SOlution -2"
   ]
  },
  {
   "cell_type": "code",
   "execution_count": 35,
   "metadata": {},
   "outputs": [],
   "source": [
    "def bst2(root):\n",
    "    if(root is None):\n",
    "        return 1000000,-1000000,True\n",
    "    leftMin,leftMax,leftBst = bst2(root.left)\n",
    "    rightMin,rightMax,rightBst = bst2(root.right)  \n",
    "    maximum = max(leftMax,rightMax,root.data)\n",
    "    minimum = min(leftMin,rightMin,root.data)\n",
    "    isTreeBst = True\n",
    "    if(leftMax > root.data or rightMin <= root.data ):\n",
    "        isTreeBst=False\n",
    "    if(not(leftBst) or not(rightBst)):\n",
    "        isTreeBst=False\n",
    "    return maximum,minimum,isTreeBst"
   ]
  },
  {
   "cell_type": "code",
   "execution_count": 36,
   "metadata": {
    "scrolled": true
   },
   "outputs": [
    {
     "name": "stdout",
     "output_type": "stream",
     "text": [
      "10\n",
      "14\n",
      "-1\n",
      "-1\n",
      "24\n",
      "-1\n",
      "-1\n",
      "10:L 14,R 24\n",
      "14:\n",
      "24:\n",
      "(24, 10, False)\n"
     ]
    }
   ],
   "source": [
    "root = treeInput()\n",
    "printTree(root)\n",
    "print(bst2(root))"
   ]
  },
  {
   "cell_type": "markdown",
   "metadata": {},
   "source": [
    "## BST SOlution-3"
   ]
  },
  {
   "cell_type": "code",
   "execution_count": 42,
   "metadata": {},
   "outputs": [],
   "source": [
    "def bst3(root,min_range,max_range):\n",
    "    if(root is None):\n",
    "        return True\n",
    "    if(root.data < min_range or root.data > max_range):\n",
    "        return False\n",
    "    leftBst = bst3(root.left,min_range,root.data-1)\n",
    "    rightBst = bst3(root.right,root.data,max_range)\n",
    "    return leftBst and rightBst\n",
    "    \n",
    "    \n",
    "    "
   ]
  },
  {
   "cell_type": "code",
   "execution_count": 44,
   "metadata": {},
   "outputs": [
    {
     "name": "stdout",
     "output_type": "stream",
     "text": [
      "10\n",
      "15\n",
      "-1\n",
      "-1\n",
      "24\n",
      "-1\n",
      "-1\n",
      "10:L 15,R 24\n",
      "15:\n",
      "24:\n",
      "False\n"
     ]
    }
   ],
   "source": [
    "root = treeInput()\n",
    "printTree(root)\n",
    "print(bst3(root,-1000000,1000000))"
   ]
  },
  {
   "cell_type": "code",
   "execution_count": null,
   "metadata": {},
   "outputs": [],
   "source": []
  }
 ],
 "metadata": {
  "kernelspec": {
   "display_name": "Python 3",
   "language": "python",
   "name": "python3"
  },
  "language_info": {
   "codemirror_mode": {
    "name": "ipython",
    "version": 3
   },
   "file_extension": ".py",
   "mimetype": "text/x-python",
   "name": "python",
   "nbconvert_exporter": "python",
   "pygments_lexer": "ipython3",
   "version": "3.7.3"
  }
 },
 "nbformat": 4,
 "nbformat_minor": 2
}
