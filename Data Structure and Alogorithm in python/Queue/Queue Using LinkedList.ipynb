{
 "cells": [
  {
   "cell_type": "code",
   "execution_count": 8,
   "metadata": {},
   "outputs": [],
   "source": [
    "class Node:\n",
    "    \n",
    "    def __init__(self,data):\n",
    "        self.data = data\n",
    "        self.next = None\n",
    "        "
   ]
  },
  {
   "cell_type": "code",
   "execution_count": 15,
   "metadata": {},
   "outputs": [],
   "source": [
    "class Queue:\n",
    "    \n",
    "    def __init__(self):\n",
    "        self.__head = None\n",
    "        self.__tail = None\n",
    "        self.__count=0\n",
    "        \n",
    "    def enque(self,data):\n",
    "        newNode = Node(data)\n",
    "        self.__count +=1\n",
    "        if(self.__head is None):            \n",
    "            self.__head = newNode\n",
    "            self.__tail = newNode\n",
    "        else:\n",
    "            self.__tail.next = newNode\n",
    "            self.__tail = newNode\n",
    "            \n",
    "            \n",
    "    def deque(self):\n",
    "        if(self.isEmpty()):\n",
    "            print(\"Hey queue is empty\")\n",
    "            return\n",
    "        el = self.__head.data\n",
    "        self.__head = self.__head.next\n",
    "        self.__count -=1\n",
    "        return el\n",
    "        \n",
    "    def size(self):\n",
    "        return self.__count\n",
    "        \n",
    "    def isEmpty(self):\n",
    "        return self.size() == 0\n",
    "    \n",
    "    def front(self):\n",
    "        if(self.__head is None):\n",
    "            print('Hey Queue is empty')\n",
    "            return\n",
    "        return self.__head.data\n",
    "        \n",
    "        \n",
    "            \n",
    "        "
   ]
  },
  {
   "cell_type": "code",
   "execution_count": 16,
   "metadata": {},
   "outputs": [],
   "source": [
    "q = Queue()\n",
    "q.enque(10)\n",
    "q.enque(20)\n",
    "q.enque(30)"
   ]
  },
  {
   "cell_type": "code",
   "execution_count": 17,
   "metadata": {},
   "outputs": [
    {
     "name": "stdout",
     "output_type": "stream",
     "text": [
      "10\n",
      "20\n",
      "30\n"
     ]
    }
   ],
   "source": [
    "while(q.isEmpty() is False):\n",
    "    print(q.deque())"
   ]
  },
  {
   "cell_type": "code",
   "execution_count": null,
   "metadata": {},
   "outputs": [],
   "source": []
  }
 ],
 "metadata": {
  "kernelspec": {
   "display_name": "Python 3",
   "language": "python",
   "name": "python3"
  },
  "language_info": {
   "codemirror_mode": {
    "name": "ipython",
    "version": 3
   },
   "file_extension": ".py",
   "mimetype": "text/x-python",
   "name": "python",
   "nbconvert_exporter": "python",
   "pygments_lexer": "ipython3",
   "version": "3.7.3"
  }
 },
 "nbformat": 4,
 "nbformat_minor": 2
}
