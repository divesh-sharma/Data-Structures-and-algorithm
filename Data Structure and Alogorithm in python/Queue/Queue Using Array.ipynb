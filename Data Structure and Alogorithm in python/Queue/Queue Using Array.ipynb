{
 "cells": [
  {
   "cell_type": "code",
   "execution_count": 7,
   "metadata": {},
   "outputs": [],
   "source": [
    "class Queue:\n",
    "    \n",
    "    def __init__(self):\n",
    "        self.__data = []\n",
    "        self.__front = 0\n",
    "        self.__count = 0\n",
    "        \n",
    "    def enque(self,data):\n",
    "        self.__data.append(data)\n",
    "        self.__count = self.__count + 1\n",
    "        \n",
    "    def deque(self):\n",
    "        if(self.isEmpty()):\n",
    "            print('HI this is empty')\n",
    "            return\n",
    "        el = self.__data[self.__front]\n",
    "        self.__front = self.__front + 1\n",
    "        self.__count = self.__count -1\n",
    "        return el\n",
    "    \n",
    "    def size(self):\n",
    "        return self.__count\n",
    "    \n",
    "    def front(self):\n",
    "        if(self.__count==0):\n",
    "            return -1\n",
    "        return self.__front\n",
    "    \n",
    "    def isEmpty(self):\n",
    "        return self.size() ==0\n",
    "        "
   ]
  },
  {
   "cell_type": "code",
   "execution_count": 5,
   "metadata": {},
   "outputs": [],
   "source": [
    "q = Queue()\n",
    "q.enque(10)\n",
    "q.enque(20)\n",
    "q.enque(30)"
   ]
  },
  {
   "cell_type": "code",
   "execution_count": 6,
   "metadata": {},
   "outputs": [
    {
     "name": "stdout",
     "output_type": "stream",
     "text": [
      "10\n",
      "20\n",
      "30\n"
     ]
    }
   ],
   "source": [
    "while q.isEmpty() is False:\n",
    "    print(q.deque())"
   ]
  },
  {
   "cell_type": "code",
   "execution_count": null,
   "metadata": {},
   "outputs": [],
   "source": []
  }
 ],
 "metadata": {
  "kernelspec": {
   "display_name": "Python 3",
   "language": "python",
   "name": "python3"
  },
  "language_info": {
   "codemirror_mode": {
    "name": "ipython",
    "version": 3
   },
   "file_extension": ".py",
   "mimetype": "text/x-python",
   "name": "python",
   "nbconvert_exporter": "python",
   "pygments_lexer": "ipython3",
   "version": "3.7.3"
  }
 },
 "nbformat": 4,
 "nbformat_minor": 2
}
