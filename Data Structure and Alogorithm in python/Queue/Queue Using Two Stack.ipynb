{
 "cells": [
  {
   "cell_type": "code",
   "execution_count": 13,
   "metadata": {},
   "outputs": [],
   "source": [
    "class Queue:\n",
    "    \n",
    "    def __init__(self):\n",
    "        self.__s1 = []\n",
    "        self.__s2 = []\n",
    "        \n",
    "    def enque(self,data):\n",
    "        self.__s1.append(data)\n",
    "        \n",
    "    def deque(self):\n",
    "        while(len(self.__s1)!=1):\n",
    "            el=self.__s1.pop()\n",
    "            self.__s2.append(el)\n",
    "        last = self.__s1.pop()\n",
    "        while(len(self.__s2)!=0):\n",
    "            el = self.__s2.pop()\n",
    "            self.__s1.append(el)\n",
    "        return last\n",
    "    \n",
    "    def size(self):\n",
    "        return len(self.__s1)\n",
    "    \n",
    "    def isEmpty(self):\n",
    "        return self.size() ==0\n",
    "    \n",
    "    def front(self):\n",
    "        if(self.isEmpty()):\n",
    "            return\n",
    "        return self.__s1[0]\n",
    "        \n",
    "        "
   ]
  },
  {
   "cell_type": "code",
   "execution_count": 17,
   "metadata": {},
   "outputs": [],
   "source": [
    "q=Queue()\n",
    "q.enque(10)\n",
    "q.enque(20)\n",
    "q.enque(30)"
   ]
  },
  {
   "cell_type": "code",
   "execution_count": 18,
   "metadata": {},
   "outputs": [
    {
     "name": "stdout",
     "output_type": "stream",
     "text": [
      "10\n",
      "20\n",
      "30\n",
      "None\n"
     ]
    }
   ],
   "source": [
    "while(q.isEmpty() is False):\n",
    "    print(q.deque())\n",
    "print(q.front())    "
   ]
  },
  {
   "cell_type": "code",
   "execution_count": 19,
   "metadata": {},
   "outputs": [
    {
     "name": "stdout",
     "output_type": "stream",
     "text": [
      "['c', 'd']\n"
     ]
    }
   ],
   "source": [
    "s=[]\n",
    "s.append('c')\n",
    "s.append('d')\n",
    "print(s)"
   ]
  },
  {
   "cell_type": "code",
   "execution_count": null,
   "metadata": {},
   "outputs": [],
   "source": []
  }
 ],
 "metadata": {
  "kernelspec": {
   "display_name": "Python 3",
   "language": "python",
   "name": "python3"
  },
  "language_info": {
   "codemirror_mode": {
    "name": "ipython",
    "version": 3
   },
   "file_extension": ".py",
   "mimetype": "text/x-python",
   "name": "python",
   "nbconvert_exporter": "python",
   "pygments_lexer": "ipython3",
   "version": "3.7.3"
  }
 },
 "nbformat": 4,
 "nbformat_minor": 2
}
