{
 "cells": [
  {
   "cell_type": "markdown",
   "metadata": {},
   "source": [
    "### Recursively"
   ]
  },
  {
   "cell_type": "code",
   "execution_count": 3,
   "metadata": {},
   "outputs": [
    {
     "name": "stdout",
     "output_type": "stream",
     "text": [
      "500\n"
     ]
    }
   ],
   "source": [
    "def knap(W,val,wt,n,i):\n",
    "    if(i==n):\n",
    "        return 0\n",
    "    \n",
    "    if(wt[i]>W):\n",
    "        ans = knap(W,val,wt,n,i+1)\n",
    "    else:\n",
    "        #inclusion of ith item\n",
    "        ans1 = val[i] + knap(W-wt[i],val,wt,n,i+1)\n",
    "        #exclusion of ith item\n",
    "        ans2 = knap(W,val,wt,n,i+1)\n",
    "        ans = max(ans1,ans2)\n",
    "    return ans     \n",
    "    \n",
    "val = [200,300,100]\n",
    "wt = [20,25,30]\n",
    "W = 50\n",
    "n=len(val)\n",
    "ans = knap(W,val,wt,n,0)\n",
    "print(ans)"
   ]
  },
  {
   "cell_type": "markdown",
   "metadata": {},
   "source": [
    "### Iteratively"
   ]
  },
  {
   "cell_type": "code",
   "execution_count": 8,
   "metadata": {},
   "outputs": [
    {
     "name": "stdout",
     "output_type": "stream",
     "text": [
      "500\n"
     ]
    }
   ],
   "source": [
    "def knap(W,val,wt):\n",
    "    n=len(val)\n",
    "    dp = [[0 for j in range(W+1)] for i in range(n+1)]\n",
    "    for i in range(1,n+1):\n",
    "        for j in range(1,W+1):\n",
    "            if(j<wt[i-1]):\n",
    "                ans = dp[i-1][j]\n",
    "            else:\n",
    "                ans1 = val[i-1] + dp[i-1][j-wt[i-1]]\n",
    "                ans2 = dp[i-1][j]\n",
    "                ans = max(ans1,ans2)\n",
    "            dp[i][j]=ans\n",
    "    return dp[n][W]        \n",
    "    \n",
    "val = [200,300,100]\n",
    "wt = [20,25,30]\n",
    "W = 50\n",
    "ans = knap(W,val,wt)\n",
    "print(ans)"
   ]
  },
  {
   "cell_type": "code",
   "execution_count": null,
   "metadata": {},
   "outputs": [],
   "source": []
  }
 ],
 "metadata": {
  "kernelspec": {
   "display_name": "Python 3",
   "language": "python",
   "name": "python3"
  },
  "language_info": {
   "codemirror_mode": {
    "name": "ipython",
    "version": 3
   },
   "file_extension": ".py",
   "mimetype": "text/x-python",
   "name": "python",
   "nbconvert_exporter": "python",
   "pygments_lexer": "ipython3",
   "version": "3.7.3"
  }
 },
 "nbformat": 4,
 "nbformat_minor": 2
}
