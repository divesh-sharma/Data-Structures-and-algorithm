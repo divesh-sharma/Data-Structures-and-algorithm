{
 "cells": [
  {
   "cell_type": "markdown",
   "metadata": {},
   "source": [
    "### Recursively"
   ]
  },
  {
   "cell_type": "code",
   "execution_count": 3,
   "metadata": {},
   "outputs": [
    {
     "name": "stdout",
     "output_type": "stream",
     "text": [
      "5\n"
     ]
    }
   ],
   "source": [
    "def lcs(str1,str2,i,j):\n",
    "    if(len(str1)==i or len(str2)==j):\n",
    "        return 0\n",
    "    if(str1[i]==str2[j]):\n",
    "        ans = 1 + lcs(str1,str2,i+1,j+1)\n",
    "    else:\n",
    "        ans1 = lcs(str1,str2,i+1,j)\n",
    "        ans2 = lcs(str1,str2,i,j+1)\n",
    "        ans = max(ans1,ans2)\n",
    "    return ans  \n",
    "\n",
    "str1='abedgjc'\n",
    "str2='bmdgsc'\n",
    "ans = lcs(str1,str2,0,0)\n",
    "print(ans)\n",
    "    "
   ]
  },
  {
   "cell_type": "markdown",
   "metadata": {},
   "source": [
    "### Memoization"
   ]
  },
  {
   "cell_type": "code",
   "execution_count": 7,
   "metadata": {},
   "outputs": [
    {
     "name": "stdout",
     "output_type": "stream",
     "text": [
      "4\n"
     ]
    }
   ],
   "source": [
    "def lcs(str1,str2,i,j,dp):\n",
    "    if(len(str1)==i or len(str2)==j):\n",
    "        return 0\n",
    "    if(str1[i]==str2[j]):\n",
    "        if(dp[i+1][j+1]==-1):\n",
    "            smallAns = 1 + lcs(str1,str2,i+1,j+1,dp)\n",
    "            dp[i+1][j+1]=smallAns\n",
    "            ans = smallAns\n",
    "        else:\n",
    "            ans = dp[i+1][j+1]\n",
    "    else:\n",
    "        if(dp[i+1][j+1]==-1):\n",
    "            ans1 = lcs(str1,str2,i+1,j,dp)\n",
    "            ans2 = lcs(str1,str2,i,j+1,dp)\n",
    "            smallAns = max(ans1,ans2)\n",
    "            dp[i+1][j+1]=smallAns\n",
    "            ans = smallAns\n",
    "        else:\n",
    "            ans = dp[i+1][j+1]\n",
    "    return ans  \n",
    "\n",
    "str1='abedgjc'\n",
    "str2='bmdgsc'\n",
    "n=len(str1)\n",
    "m=len(str2)\n",
    "dp = [[-1 for j in range(m+1)] for i in range(n+1)]\n",
    "ans = lcs(str1,str2,0,0,dp)\n",
    "print(ans)\n",
    "    "
   ]
  },
  {
   "cell_type": "markdown",
   "metadata": {},
   "source": [
    "### Iteratively"
   ]
  },
  {
   "cell_type": "code",
   "execution_count": 9,
   "metadata": {},
   "outputs": [
    {
     "name": "stdout",
     "output_type": "stream",
     "text": [
      "4\n"
     ]
    }
   ],
   "source": [
    "def lcsI(str1,str2):\n",
    "    n=len(str1)\n",
    "    m=len(str2)\n",
    "    dp = [[0 for j in range(m+1)] for i in range(n+1)]\n",
    "    for i in range(n-1,-1,-1):\n",
    "        for j in range(m-1,-1,-1):\n",
    "            if(str1[i]==str2[j]):\n",
    "                dp[i][j]=1+dp[i+1][j+1]\n",
    "            else:\n",
    "                dp[i][j]=max(dp[i+1][j],dp[i][j+1])\n",
    "    return dp[0][0]            \n",
    "\n",
    "str1='abedgjc'\n",
    "str2='bmdgsc'\n",
    "ans = lcsI(str1,str2)\n",
    "print(ans)"
   ]
  },
  {
   "cell_type": "code",
   "execution_count": null,
   "metadata": {},
   "outputs": [],
   "source": []
  }
 ],
 "metadata": {
  "kernelspec": {
   "display_name": "Python 3",
   "language": "python",
   "name": "python3"
  },
  "language_info": {
   "codemirror_mode": {
    "name": "ipython",
    "version": 3
   },
   "file_extension": ".py",
   "mimetype": "text/x-python",
   "name": "python",
   "nbconvert_exporter": "python",
   "pygments_lexer": "ipython3",
   "version": "3.7.3"
  }
 },
 "nbformat": 4,
 "nbformat_minor": 2
}
