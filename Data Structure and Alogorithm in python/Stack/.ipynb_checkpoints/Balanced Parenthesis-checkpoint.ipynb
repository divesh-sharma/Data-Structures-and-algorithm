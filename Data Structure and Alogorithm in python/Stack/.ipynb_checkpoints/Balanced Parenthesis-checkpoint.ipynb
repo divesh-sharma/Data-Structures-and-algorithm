{
 "cells": [
  {
   "cell_type": "code",
   "execution_count": null,
   "metadata": {},
   "outputs": [],
   "source": [
    "import queue"
   ]
  },
  {
   "cell_type": "code",
   "execution_count": 9,
   "metadata": {},
   "outputs": [],
   "source": [
    "class Stack:\n",
    "    \n",
    "    def __init__(self):\n",
    "        self.__data = []\n",
    "     \n",
    "    def push(self,item):\n",
    "        self.__data.append(item)\n",
    "    \n",
    "    def pop(self):\n",
    "        if(self.isEmpty()):\n",
    "            print(\"Hey !! Stack is Empty\")\n",
    "            return          \n",
    "        return self.__data.pop()\n",
    "    \n",
    "    def top(self):\n",
    "        if(self.isEmpty()):\n",
    "            print(\"Hey !! Stack is Empty\")\n",
    "            return\n",
    "        return self.__data[len(self.__data)-1]\n",
    "    \n",
    "    def size(self):\n",
    "        return len(self.__data)\n",
    "    \n",
    "    def isEmpty(self):\n",
    "        return self.size()==0"
   ]
  },
  {
   "cell_type": "code",
   "execution_count": 19,
   "metadata": {},
   "outputs": [],
   "source": [
    "def expression(st):\n",
    "    s=Stack() \n",
    "    for i in range(len(st)):\n",
    "        if(st[i]=='(' or st[i]=='{' or st[i]=='['):\n",
    "            s.push(st[i])\n",
    "        elif(st[i]==')' and s.top()=='('):\n",
    "            s.pop()\n",
    "        elif(st[i]=='}' and s.top()=='{'):\n",
    "            s.pop()\n",
    "        elif(st[i]==']' and s.top()=='['):\n",
    "            s.pop()\n",
    "        elif(st[i]==')' and s.isEmpty() or st[i]=='}' and s.isEmpty() or st[i]==']' and s.isEmpty()) :\n",
    "            return False\n",
    "    if(s.isEmpty()):\n",
    "        return True\n",
    "    else:\n",
    "        return False\n",
    "         \n",
    "    \n",
    "    \n",
    "            \n",
    "            \n",
    "            \n",
    "            "
   ]
  },
  {
   "cell_type": "code",
   "execution_count": 20,
   "metadata": {},
   "outputs": [
    {
     "name": "stdout",
     "output_type": "stream",
     "text": [
      "a +b }\n",
      "Hey !! Stack is Empty\n",
      "False\n"
     ]
    }
   ],
   "source": [
    "n= input()\n",
    "print(expression(n))"
   ]
  },
  {
   "cell_type": "code",
   "execution_count": null,
   "metadata": {},
   "outputs": [],
   "source": []
  }
 ],
 "metadata": {
  "kernelspec": {
   "display_name": "Python 3",
   "language": "python",
   "name": "python3"
  },
  "language_info": {
   "codemirror_mode": {
    "name": "ipython",
    "version": 3
   },
   "file_extension": ".py",
   "mimetype": "text/x-python",
   "name": "python",
   "nbconvert_exporter": "python",
   "pygments_lexer": "ipython3",
   "version": "3.7.3"
  }
 },
 "nbformat": 4,
 "nbformat_minor": 2
}
