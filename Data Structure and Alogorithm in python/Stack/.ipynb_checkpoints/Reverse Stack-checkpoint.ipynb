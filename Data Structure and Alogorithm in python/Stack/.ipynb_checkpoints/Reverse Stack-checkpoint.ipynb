{
 "cells": [
  {
   "cell_type": "markdown",
   "metadata": {},
   "source": [
    "## Reverse a stack using another stack"
   ]
  },
  {
   "cell_type": "code",
   "execution_count": 7,
   "metadata": {},
   "outputs": [],
   "source": [
    "def rev(s1,s2):\n",
    "    if(len(s1)==1):\n",
    "        return\n",
    "    while(len(s1)!=1):\n",
    "        el=s1.pop()\n",
    "        s2.append(el)\n",
    "        \n",
    "    last = s1.pop()    \n",
    "    \n",
    "    while(len(s2)!=0):\n",
    "        el=s2.pop()\n",
    "        s1.append(el)\n",
    "    rev(s1,s2)            \n",
    "    s1.append(last)    "
   ]
  },
  {
   "cell_type": "code",
   "execution_count": 8,
   "metadata": {},
   "outputs": [
    {
     "name": "stdout",
     "output_type": "stream",
     "text": [
      "4 \n",
      "1 2 3 4\n",
      "1\n",
      "2\n",
      "3\n",
      "4\n"
     ]
    }
   ],
   "source": [
    "n=int(input())\n",
    "s1 = [int(el) for el in input().split()]\n",
    "s2 = []\n",
    "rev(s1,s2)\n",
    "while(len(s1)!=0):\n",
    "    print(s1.pop())"
   ]
  },
  {
   "cell_type": "code",
   "execution_count": null,
   "metadata": {},
   "outputs": [],
   "source": []
  }
 ],
 "metadata": {
  "kernelspec": {
   "display_name": "Python 3",
   "language": "python",
   "name": "python3"
  },
  "language_info": {
   "codemirror_mode": {
    "name": "ipython",
    "version": 3
   },
   "file_extension": ".py",
   "mimetype": "text/x-python",
   "name": "python",
   "nbconvert_exporter": "python",
   "pygments_lexer": "ipython3",
   "version": "3.7.3"
  }
 },
 "nbformat": 4,
 "nbformat_minor": 2
}
