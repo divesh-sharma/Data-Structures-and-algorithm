{
 "cells": [
  {
   "cell_type": "code",
   "execution_count": 1,
   "metadata": {},
   "outputs": [
    {
     "name": "stdout",
     "output_type": "stream",
     "text": [
      "Enter the numerator10\n",
      "Enter the demominator0\n",
      "combined exception\n",
      "Enter the numerator10\n",
      "Enter the demominator2\n",
      "Hi\n",
      "5.0\n"
     ]
    }
   ],
   "source": [
    "while True:\n",
    "    try:\n",
    "        n = input('Enter the numerator')\n",
    "        num = int(n)\n",
    "        n = input('Enter the demominator')\n",
    "        denom = int(n)\n",
    "        if(denom==0):\n",
    "            raise ZeroDivisionError\n",
    "        print('Hi')    \n",
    "        value = num / denom\n",
    "        print(value)\n",
    "        break\n",
    "    except (ValueError,ZeroDivisionError):\n",
    "        print(\"combined exception\")\n",
    "    except ValueError:\n",
    "        print('Exception occured')\n",
    "    except ZeroDivisionError:\n",
    "        print('Denominator should not be zero')"
   ]
  },
  {
   "cell_type": "code",
   "execution_count": 4,
   "metadata": {},
   "outputs": [
    {
     "name": "stdout",
     "output_type": "stream",
     "text": [
      "Enter the numerator10\n",
      "Enter the demominator0\n",
      "Denominator should not be zero\n",
      "Enter the numerator10\n",
      "Enter the demominator2\n",
      "Hi\n",
      "5.0\n"
     ]
    }
   ],
   "source": [
    "class ZeroDenominatorError(Exception):\n",
    "    pass\n",
    "while True:\n",
    "    try:\n",
    "        n = input('Enter the numerator')\n",
    "        num = int(n)\n",
    "        n = input('Enter the demominator')\n",
    "        denom = int(n)\n",
    "        if(denom==0):\n",
    "            raise ZeroDenominatorError('Denomintor should not be zero')\n",
    "        print('Hi')    \n",
    "        value = num / denom\n",
    "        print(value)\n",
    "        break\n",
    "    except (ValueError,ZeroDivisionError):\n",
    "        print(\"combined exception\")\n",
    "    except ValueError:\n",
    "        print('Exception occured')\n",
    "    except ZeroDivisionError:\n",
    "        print('Division should not be zero')\n",
    "    except ZeroDenominatorError:\n",
    "        print('Denominator should not be zero')"
   ]
  },
  {
   "cell_type": "code",
   "execution_count": 5,
   "metadata": {},
   "outputs": [
    {
     "ename": "ZeroDenominatorError",
     "evalue": "",
     "output_type": "error",
     "traceback": [
      "\u001b[0;31m---------------------------------------------------------------------------\u001b[0m",
      "\u001b[0;31mZeroDenominatorError\u001b[0m                      Traceback (most recent call last)",
      "\u001b[0;32m<ipython-input-5-c9ebb5ac2a06>\u001b[0m in \u001b[0;36m<module>\u001b[0;34m\u001b[0m\n\u001b[1;32m      5\u001b[0m     \u001b[0mb\u001b[0m \u001b[0;34m=\u001b[0m \u001b[0;36m0\u001b[0m\u001b[0;34m\u001b[0m\u001b[0;34m\u001b[0m\u001b[0m\n\u001b[1;32m      6\u001b[0m     \u001b[0;32mif\u001b[0m\u001b[0;34m(\u001b[0m\u001b[0mb\u001b[0m\u001b[0;34m==\u001b[0m\u001b[0;36m0\u001b[0m\u001b[0;34m)\u001b[0m\u001b[0;34m:\u001b[0m\u001b[0;34m\u001b[0m\u001b[0;34m\u001b[0m\u001b[0m\n\u001b[0;32m----> 7\u001b[0;31m         \u001b[0;32mraise\u001b[0m \u001b[0mZeroDenominatorError\u001b[0m\u001b[0;34m(\u001b[0m\u001b[0;34m)\u001b[0m\u001b[0;34m\u001b[0m\u001b[0;34m\u001b[0m\u001b[0m\n\u001b[0m\u001b[1;32m      8\u001b[0m     \u001b[0mc\u001b[0m \u001b[0;34m=\u001b[0m \u001b[0ma\u001b[0m\u001b[0;34m/\u001b[0m\u001b[0mb\u001b[0m\u001b[0;34m\u001b[0m\u001b[0;34m\u001b[0m\u001b[0m\n\u001b[1;32m      9\u001b[0m \u001b[0;32mexcept\u001b[0m \u001b[0mZeroDivisionError\u001b[0m\u001b[0;34m:\u001b[0m\u001b[0;34m\u001b[0m\u001b[0;34m\u001b[0m\u001b[0m\n",
      "\u001b[0;31mZeroDenominatorError\u001b[0m: "
     ]
    }
   ],
   "source": [
    "class ZeroDenominatorError(Exception):\n",
    "    pass\n",
    "try:\n",
    "    a = 10\n",
    "    b = 0\n",
    "    if(b==0):\n",
    "        raise ZeroDenominatorError() \n",
    "    c = a/b\n",
    "except ZeroDivisionError:\n",
    "    print('Zero Division Error occured')"
   ]
  },
  {
   "cell_type": "code",
   "execution_count": null,
   "metadata": {},
   "outputs": [],
   "source": []
  }
 ],
 "metadata": {
  "kernelspec": {
   "display_name": "Python 3",
   "language": "python",
   "name": "python3"
  },
  "language_info": {
   "codemirror_mode": {
    "name": "ipython",
    "version": 3
   },
   "file_extension": ".py",
   "mimetype": "text/x-python",
   "name": "python",
   "nbconvert_exporter": "python",
   "pygments_lexer": "ipython3",
   "version": "3.7.3"
  }
 },
 "nbformat": 4,
 "nbformat_minor": 2
}
