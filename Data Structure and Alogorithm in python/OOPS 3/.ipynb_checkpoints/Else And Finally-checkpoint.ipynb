{
 "cells": [
  {
   "cell_type": "code",
   "execution_count": 2,
   "metadata": {},
   "outputs": [
    {
     "name": "stdout",
     "output_type": "stream",
     "text": [
      "some\n"
     ]
    }
   ],
   "source": [
    "for i in range(0,10):\n",
    "    if(i==15):\n",
    "        break\n",
    "else:\n",
    "    print(\"some\")"
   ]
  },
  {
   "cell_type": "markdown",
   "metadata": {},
   "source": [
    "### If not exception come in try block then it goes to else block"
   ]
  },
  {
   "cell_type": "code",
   "execution_count": 3,
   "metadata": {},
   "outputs": [
    {
     "name": "stdout",
     "output_type": "stream",
     "text": [
      "Enter the numerator5\n",
      "Enter the demominator2\n",
      "Hi\n",
      "2.5\n"
     ]
    }
   ],
   "source": [
    "class ZeroDenominatorError(ZeroDivisionError):\n",
    "    pass\n",
    "while True:\n",
    "    try:\n",
    "        n = input('Enter the numerator')\n",
    "        num = int(n)\n",
    "        n = input('Enter the demominator')\n",
    "        denom = int(n)\n",
    "        if(denom==0):\n",
    "            raise ZeroDenominatorError('Denomintor should not be zero')\n",
    "        print('Hi')    \n",
    "        value = num / denom\n",
    "       \n",
    "    except (ValueError,ZeroDivisionError):\n",
    "        print(\"combined exception\")\n",
    "    except ValueError:\n",
    "        print('Exception occured')\n",
    "    except ZeroDivisionError:\n",
    "        print('Division should not be zero')\n",
    "    except ZeroDenominatorError:\n",
    "        print('Denominator should not be zero')\n",
    "    except :\n",
    "        print('Some Exception')\n",
    "    else:\n",
    "        print(value)\n",
    "        break"
   ]
  },
  {
   "cell_type": "markdown",
   "metadata": {},
   "source": [
    "### Finally should come at last"
   ]
  },
  {
   "cell_type": "markdown",
   "metadata": {},
   "source": [
    "### Finally definetly exceuted the exception raised or not"
   ]
  },
  {
   "cell_type": "code",
   "execution_count": 5,
   "metadata": {},
   "outputs": [
    {
     "name": "stdout",
     "output_type": "stream",
     "text": [
      "Enter the numerator10\n",
      "Enter the demominator0\n",
      "combined exception\n",
      "Exception may or may not be raised\n",
      "Enter the numerator10\n",
      "Enter the demominator2\n",
      "Hi\n",
      "5.0\n",
      "Exception may or may not be raised\n"
     ]
    }
   ],
   "source": [
    "class ZeroDenominatorError(ZeroDivisionError):\n",
    "    pass\n",
    "while True:\n",
    "    try:\n",
    "        n = input('Enter the numerator')\n",
    "        num = int(n)\n",
    "        n = input('Enter the demominator')\n",
    "        denom = int(n)\n",
    "        if(denom==0):\n",
    "            raise ZeroDenominatorError('Denomintor should not be zero')\n",
    "        print('Hi')    \n",
    "        value = num / denom\n",
    "       \n",
    "    except (ValueError,ZeroDivisionError):\n",
    "        print(\"combined exception\")\n",
    "    except ValueError:\n",
    "        print('Exception occured')\n",
    "    except ZeroDivisionError:\n",
    "        print('Division should not be zero')\n",
    "    except ZeroDenominatorError:\n",
    "        print('Denominator should not be zero')\n",
    "    except :\n",
    "        print('Some Exception')\n",
    "    else:\n",
    "        print(value)\n",
    "        break\n",
    "    finally:\n",
    "        print('Exception may or may not be raised')"
   ]
  },
  {
   "cell_type": "code",
   "execution_count": 8,
   "metadata": {},
   "outputs": [
    {
     "name": "stdout",
     "output_type": "stream",
     "text": [
      "Zero Division Error occured"
     ]
    }
   ],
   "source": [
    "class ZeroDenominatorError(ZeroDivisionError):\n",
    "    pass\n",
    "try:\n",
    "    a = 10\n",
    "    b = 0\n",
    "    if(b==0):\n",
    "        raise ZeroDenominatorError()\n",
    "    c = a/b\n",
    "except ZeroDivisionError:\n",
    "    print('Zero Division Error occured',end= '')\n",
    "except ZeroDenominatorError:\n",
    "    print('Zero Denominator Error occured',end = '')\n",
    "else:\n",
    "    print('else works')"
   ]
  },
  {
   "cell_type": "code",
   "execution_count": null,
   "metadata": {},
   "outputs": [],
   "source": []
  }
 ],
 "metadata": {
  "kernelspec": {
   "display_name": "Python 3",
   "language": "python",
   "name": "python3"
  },
  "language_info": {
   "codemirror_mode": {
    "name": "ipython",
    "version": 3
   },
   "file_extension": ".py",
   "mimetype": "text/x-python",
   "name": "python",
   "nbconvert_exporter": "python",
   "pygments_lexer": "ipython3",
   "version": "3.7.3"
  }
 },
 "nbformat": 4,
 "nbformat_minor": 2
}
