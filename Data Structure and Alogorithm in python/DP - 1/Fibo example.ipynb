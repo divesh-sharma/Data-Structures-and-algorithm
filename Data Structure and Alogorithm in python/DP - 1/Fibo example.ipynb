{
 "cells": [
  {
   "cell_type": "code",
   "execution_count": 1,
   "metadata": {},
   "outputs": [],
   "source": [
    "def fibo(n):\n",
    "    if(n==0 or n ==1):\n",
    "        return n\n",
    "    ans1 = fibo(n-1)\n",
    "    ans2 = fibo(n-2)\n",
    "    ans = ans1 + ans2\n",
    "    return ans"
   ]
  },
  {
   "cell_type": "code",
   "execution_count": 3,
   "metadata": {},
   "outputs": [
    {
     "name": "stdout",
     "output_type": "stream",
     "text": [
      "7\n",
      "nth fibonacci no. is 13\n"
     ]
    }
   ],
   "source": [
    "n = int(input())\n",
    "print(\"nth fibonacci no. is\",fibo(n))"
   ]
  },
  {
   "cell_type": "code",
   "execution_count": 4,
   "metadata": {},
   "outputs": [],
   "source": [
    "# Fibonacci series using the recurssion\n",
    "def fibo(n,dp):\n",
    "    if(n==0 or n==1):\n",
    "        return n\n",
    "    if(dp[n-1]==-1):\n",
    "        ans1 = fibo(n-1,dp)\n",
    "        dp[n-1] = ans1\n",
    "    else:\n",
    "        ans1 = dp[n-1]\n",
    "    if(dp[n-2]==-1):\n",
    "        ans2 = fibo(n-2,dp)\n",
    "        dp[n-2]=ans2\n",
    "    else:\n",
    "        ans2 = dp[n-2]\n",
    "    return ans1 + ans2    "
   ]
  },
  {
   "cell_type": "code",
   "execution_count": 1,
   "metadata": {},
   "outputs": [
    {
     "name": "stdout",
     "output_type": "stream",
     "text": [
      "7\n",
      "nth fibon\n"
     ]
    }
   ],
   "source": [
    "n = int(input())\n",
    "dp = [-1 for i in range(n+1)]\n",
    "print(\"nth fibon\")"
   ]
  },
  {
   "cell_type": "code",
   "execution_count": 4,
   "metadata": {},
   "outputs": [],
   "source": [
    "for i in range(10):\n",
    "    break\n",
    "    print(i)\n",
    "else:\n",
    "    print(\"else\")"
   ]
  },
  {
   "cell_type": "code",
   "execution_count": 25,
   "metadata": {},
   "outputs": [],
   "source": [
    "    def strStr(haystack, needle):\n",
    "        \"\"\"\n",
    "        :type haystack: str\n",
    "        :type needle: str\n",
    "        :rtype: int\n",
    "        \"\"\"\n",
    "        index=-1\n",
    "        needleLen = len(needle)\n",
    "        if(haystack==needle):\n",
    "            return 0\n",
    "            \n",
    "        for i in range(len(haystack)):\n",
    "            print(haystack[i:i+needleLen],\"i\",i+1,type(needle),needle)\n",
    "            if(haystack[i:i+needleLen] == needle):\n",
    "                print(\"Work\")\n",
    "                index = i\n",
    "                break\n",
    "        return index     "
   ]
  },
  {
   "cell_type": "code",
   "execution_count": 26,
   "metadata": {},
   "outputs": [
    {
     "data": {
      "text/plain": [
       "0"
      ]
     },
     "execution_count": 26,
     "metadata": {},
     "output_type": "execute_result"
    }
   ],
   "source": [
    "strStr('','')"
   ]
  },
  {
   "cell_type": "code",
   "execution_count": 9,
   "metadata": {},
   "outputs": [
    {
     "name": "stdout",
     "output_type": "stream",
     "text": [
      "True\n"
     ]
    }
   ],
   "source": [
    "print('ll' is 'll')"
   ]
  },
  {
   "cell_type": "code",
   "execution_count": 27,
   "metadata": {},
   "outputs": [],
   "source": [
    "def removeElement(nums,val):\n",
    "        \"\"\"\n",
    "        :type nums: List[int]\n",
    "        :type val: int\n",
    "        :rtype: int\n",
    "        \"\"\"\n",
    "        count=0\n",
    "        for i in range(len(nums)):\n",
    "            if(nums[i] == val):\n",
    "                nums[i] = -1\n",
    "            else:\n",
    "                count +=1\n",
    "        return count,nums   "
   ]
  },
  {
   "cell_type": "code",
   "execution_count": 28,
   "metadata": {},
   "outputs": [
    {
     "name": "stdout",
     "output_type": "stream",
     "text": [
      "(2, [-1, 2, 2, -1])\n"
     ]
    }
   ],
   "source": [
    "print(removeElement([3,2,2,3],3))"
   ]
  },
  {
   "cell_type": "code",
   "execution_count": 39,
   "metadata": {},
   "outputs": [],
   "source": [
    "    def moveZeroes(nums):\n",
    "        \"\"\"\n",
    "        :type nums: List[int]\n",
    "        :rtype: None Do not return anything, modify nums in-place instead.\n",
    "        \"\"\"\n",
    "        halfLen = len(nums)//2 if(len(nums)%2==0) else (len(nums)//2 + 1)\n",
    "        j=len(nums)-1\n",
    "        for i in range(halfLen):\n",
    "            print(\"i\",i,\"j\",j)\n",
    "            print(nums,\"start\")\n",
    "            if(nums[i]==0 and nums[j]!=0):\n",
    "                nums[i],nums[j]=nums[j],nums[i]\n",
    "                j = j - 1\n",
    "            elif(nums[i]==0 and nums[j]==0):\n",
    "                nums[i],nums[j-1]= nums[j-1],nums[i]\n",
    "                j = j -1\n",
    "            print(nums,\"end\")    \n",
    "        return nums        "
   ]
  },
  {
   "cell_type": "code",
   "execution_count": 40,
   "metadata": {},
   "outputs": [
    {
     "name": "stdout",
     "output_type": "stream",
     "text": [
      "i 0 j 4\n",
      "[0, 1, 0, 3, 12] start\n",
      "[12, 1, 0, 3, 0] end\n",
      "i 1 j 3\n",
      "[12, 1, 0, 3, 0] start\n",
      "[12, 1, 0, 3, 0] end\n",
      "i 2 j 3\n",
      "[12, 1, 0, 3, 0] start\n",
      "[12, 1, 3, 0, 0] end\n",
      "[12, 1, 3, 0, 0]\n"
     ]
    }
   ],
   "source": [
    "print(moveZeroes([0,1,0,3,12]))"
   ]
  },
  {
   "cell_type": "code",
   "execution_count": null,
   "metadata": {},
   "outputs": [],
   "source": []
  }
 ],
 "metadata": {
  "kernelspec": {
   "display_name": "Python 3",
   "language": "python",
   "name": "python3"
  },
  "language_info": {
   "codemirror_mode": {
    "name": "ipython",
    "version": 3
   },
   "file_extension": ".py",
   "mimetype": "text/x-python",
   "name": "python",
   "nbconvert_exporter": "python",
   "pygments_lexer": "ipython3",
   "version": "3.7.3"
  }
 },
 "nbformat": 4,
 "nbformat_minor": 2
}
