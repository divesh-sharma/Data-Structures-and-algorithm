{
 "cells": [
  {
   "cell_type": "code",
   "execution_count": 5,
   "metadata": {},
   "outputs": [
    {
     "name": "stdout",
     "output_type": "stream",
     "text": [
      "41\n",
      "2\n"
     ]
    }
   ],
   "source": [
    "import math,sys\n",
    "\n",
    "def minSquares(n,dp):\n",
    "    if(n==0):\n",
    "        return 0\n",
    "    ans = sys.maxsize\n",
    "    root = int(math.sqrt(n))\n",
    "    for i in range(1,root+1):\n",
    "        newCheckValue = n-(i**2)\n",
    "        if(dp[newCheckValue]==-1):\n",
    "            smallAns= minSquares(newCheckValue,dp)\n",
    "            dp[newCheckValue] = smallAns\n",
    "            currAns = 1+ smallAns\n",
    "            \n",
    "        else:\n",
    "            currAns = 1 + dp[newCheckValue]\n",
    "        ans = min(ans,currAns)\n",
    "    return ans    \n",
    "n = int(input())\n",
    "dp = [-1 for i in range(n+1)]\n",
    "ans = minSquares(n,dp)\n",
    "print(ans)"
   ]
  },
  {
   "cell_type": "code",
   "execution_count": 18,
   "metadata": {},
   "outputs": [],
   "source": [
    "#Iterativelu\n",
    "def minSquaresI(n):\n",
    "    dp = [-1 for i in range(n+1)]\n",
    "    dp[0]=0\n",
    "    for i in range(1,n+1):\n",
    "        ans = sys.maxsize\n",
    "        root = int(math.sqrt(i))\n",
    "        for j in range(1,root+1):\n",
    "            currAns = 1 + dp[i-(j**2)]\n",
    "            ans = min(ans,currAns)\n",
    "        dp[i]= ans\n",
    "    return dp[n]    "
   ]
  },
  {
   "cell_type": "code",
   "execution_count": 19,
   "metadata": {},
   "outputs": [
    {
     "name": "stdout",
     "output_type": "stream",
     "text": [
      "41\n",
      "2\n"
     ]
    }
   ],
   "source": [
    "n=int(input())\n",
    "print(minSquaresI(n))"
   ]
  },
  {
   "cell_type": "code",
   "execution_count": null,
   "metadata": {},
   "outputs": [],
   "source": []
  }
 ],
 "metadata": {
  "kernelspec": {
   "display_name": "Python 3",
   "language": "python",
   "name": "python3"
  },
  "language_info": {
   "codemirror_mode": {
    "name": "ipython",
    "version": 3
   },
   "file_extension": ".py",
   "mimetype": "text/x-python",
   "name": "python",
   "nbconvert_exporter": "python",
   "pygments_lexer": "ipython3",
   "version": "3.7.3"
  }
 },
 "nbformat": 4,
 "nbformat_minor": 2
}
