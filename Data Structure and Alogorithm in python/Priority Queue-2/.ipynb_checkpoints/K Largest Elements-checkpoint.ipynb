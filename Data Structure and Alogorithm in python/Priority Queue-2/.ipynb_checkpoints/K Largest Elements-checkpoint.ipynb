{
 "cells": [
  {
   "cell_type": "code",
   "execution_count": 4,
   "metadata": {},
   "outputs": [],
   "source": [
    "import heapq\n",
    "def kLargest(arr,k):\n",
    "    heap = arr[:k]\n",
    "    heapq.heapify(heap)\n",
    "    n=len(arr)\n",
    "    for i in range(k,n):\n",
    "        if(heap[0] < arr[i]):\n",
    "            heapq.heapreplace(heap,arr[i])\n",
    "    return heap        "
   ]
  },
  {
   "cell_type": "code",
   "execution_count": 11,
   "metadata": {},
   "outputs": [],
   "source": [
    "def kthLargest(arr,k):\n",
    "    return arr[-k]"
   ]
  },
  {
   "cell_type": "code",
   "execution_count": 12,
   "metadata": {},
   "outputs": [
    {
     "name": "stdout",
     "output_type": "stream",
     "text": [
      "9  \n",
      "10  \n",
      "12  \n",
      "99  \n",
      "12 largest\n"
     ]
    }
   ],
   "source": [
    "li = [6,2,1,9,10,12,7,4,99]\n",
    "elements = kLargest(li,4)\n",
    "for el in elements:\n",
    "    print(el,\" \")\n",
    "\n",
    "l=kthLargest(elements,2)  \n",
    "print(l,\"largest\")\n",
    "    "
   ]
  },
  {
   "cell_type": "code",
   "execution_count": null,
   "metadata": {},
   "outputs": [],
   "source": []
  }
 ],
 "metadata": {
  "kernelspec": {
   "display_name": "Python 3",
   "language": "python",
   "name": "python3"
  },
  "language_info": {
   "codemirror_mode": {
    "name": "ipython",
    "version": 3
   },
   "file_extension": ".py",
   "mimetype": "text/x-python",
   "name": "python",
   "nbconvert_exporter": "python",
   "pygments_lexer": "ipython3",
   "version": "3.7.3"
  }
 },
 "nbformat": 4,
 "nbformat_minor": 2
}
