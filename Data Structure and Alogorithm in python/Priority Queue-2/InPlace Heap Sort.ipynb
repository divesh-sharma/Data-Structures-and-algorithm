{
 "cells": [
  {
   "cell_type": "code",
   "execution_count": 8,
   "metadata": {},
   "outputs": [],
   "source": [
    "def down_heapify(arr,i,n):\n",
    "    parentIndex = i;\n",
    "    leftChildIndex = 2*parentIndex +1\n",
    "    rightChildIndex = 2*parentIndex + 2\n",
    "    while leftChildIndex < n:\n",
    "        minIndex = parentIndex\n",
    "        if(arr[minIndex] > arr[leftChildIndex]):\n",
    "            minIndex = leftChildIndex\n",
    "        if(rightChildIndex < n and arr[minIndex] > arr[rightChildIndex]):    \n",
    "            minIndex = rightChildIndex\n",
    "        if( minIndex == parentIndex):\n",
    "            return\n",
    "        arr[minIndex],arr[parentIndex] = arr[parentIndex],arr[minIndex]\n",
    "        parentIndex = minIndex\n",
    "        leftChildIndex = 2*parentIndex + 1\n",
    "        rightChildIndex = 2*parentIndex + 2\n",
    "    return    \n",
    "\n",
    "def heapSort(arr):\n",
    "    \n",
    "    #     Build the heap\n",
    "    n=len(arr)\n",
    "    for i in range(n//2 -1,-1,-1):\n",
    "        down_heapify(arr,i,n)\n",
    "    \n",
    "    for i in range(n-1,0,-1):\n",
    "        arr[0],arr[i]=arr[i],arr[0]\n",
    "        down_heapify(arr,0,i)\n",
    "    return    \n",
    "        \n",
    "\n",
    "\n",
    "# Removing n elements from heap and put them at correct position\n",
    "    "
   ]
  },
  {
   "cell_type": "code",
   "execution_count": 9,
   "metadata": {},
   "outputs": [
    {
     "name": "stdout",
     "output_type": "stream",
     "text": [
      "7 1 2 9 0 12 13 5 4 3 19\n",
      "19\n",
      "13\n",
      "12\n",
      "9\n",
      "7\n",
      "5\n",
      "4\n",
      "3\n",
      "2\n",
      "1\n",
      "0\n"
     ]
    }
   ],
   "source": [
    "arr = [int(ele) for ele in input().split()]\n",
    "heapSort(arr)\n",
    "for el in arr:\n",
    "    print(el)"
   ]
  },
  {
   "cell_type": "code",
   "execution_count": null,
   "metadata": {},
   "outputs": [],
   "source": []
  }
 ],
 "metadata": {
  "kernelspec": {
   "display_name": "Python 3",
   "language": "python",
   "name": "python3"
  },
  "language_info": {
   "codemirror_mode": {
    "name": "ipython",
    "version": 3
   },
   "file_extension": ".py",
   "mimetype": "text/x-python",
   "name": "python",
   "nbconvert_exporter": "python",
   "pygments_lexer": "ipython3",
   "version": "3.7.3"
  }
 },
 "nbformat": 4,
 "nbformat_minor": 2
}
