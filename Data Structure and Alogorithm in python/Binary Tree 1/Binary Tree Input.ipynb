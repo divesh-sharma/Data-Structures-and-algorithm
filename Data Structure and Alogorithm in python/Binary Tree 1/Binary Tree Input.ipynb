{
 "cells": [
  {
   "cell_type": "code",
   "execution_count": 1,
   "metadata": {},
   "outputs": [],
   "source": [
    "class BinaryTreeNode:\n",
    "    \n",
    "    def __init__(self,data):\n",
    "        self.data = data\n",
    "        self.left = None\n",
    "        self.right= None"
   ]
  },
  {
   "cell_type": "code",
   "execution_count": 2,
   "metadata": {},
   "outputs": [],
   "source": [
    "def printTreeDetailed(root):\n",
    "    if(root == None):\n",
    "        return\n",
    "    print(root.data,end=\":\")\n",
    "    if(root.left is not None):\n",
    "        print(\"L\",root.left.data,end=\",\")\n",
    "    if(root.right is not None):\n",
    "        print(\"R\",root.right.data,end=\"\") \n",
    "    print()    \n",
    "    printTreeDetailed(root.left)\n",
    "    printTreeDetailed(root.right)"
   ]
  },
  {
   "cell_type": "code",
   "execution_count": 1,
   "metadata": {},
   "outputs": [],
   "source": [
    "def treeInput():\n",
    "    rootData = int(input())\n",
    "    if(rootData is -1):\n",
    "        return\n",
    "    root = BinaryTreeNode(rootData)\n",
    "    leftTree = treeInput()\n",
    "    rightTree = treeInput()\n",
    "    root.left = leftTree\n",
    "    root.right = rightTree\n",
    "    return root\n",
    "    \n",
    "    "
   ]
  },
  {
   "cell_type": "code",
   "execution_count": 2,
   "metadata": {},
   "outputs": [
    {
     "ename": "SyntaxError",
     "evalue": "invalid syntax (<ipython-input-2-70706ed52396>, line 17)",
     "output_type": "error",
     "traceback": [
      "\u001b[0;36m  File \u001b[0;32m\"<ipython-input-2-70706ed52396>\"\u001b[0;36m, line \u001b[0;32m17\u001b[0m\n\u001b[0;31m    root = BinaryTreeNode(data):\u001b[0m\n\u001b[0m                               ^\u001b[0m\n\u001b[0;31mSyntaxError\u001b[0m\u001b[0;31m:\u001b[0m invalid syntax\n"
     ]
    }
   ],
   "source": [
    "class BinaryTreeNode:\n",
    "    def __init__(self, data):\n",
    "        self.data = data\n",
    "        self.left = None\n",
    "        self.right = None\n",
    "\n",
    "\n",
    "\n",
    "def buildTree(preOrder, inOrder, n) :\n",
    "\t#Your code goes here\n",
    "    index=0\n",
    "    if(len(preOrder)==0):\n",
    "        return\n",
    "    # print(preOrder[0],\"test\")\n",
    "    # return\n",
    "    data = preOrder[0] \n",
    "    root = BinaryTreeNode(data):\n",
    "    for i in range(0,len(inOrder)):\n",
    "        if(inOrder[i]==root.data):\n",
    "            index = i\n",
    "    leftInOrder = inOrder[0:index]\n",
    "    rightInOrder = inOrder[index+1:]\n",
    "    leftPreOrder = preOrder[1:len(leftInOrder)+1]\n",
    "    rightPreOrder = preOrder[len(leftInOrder)+1:]\n",
    "    root.left = buildTree(leftPreOrder,leftInOrder,0)\n",
    "    root.right = buildTree(rightPreOrder,rightInOrder,0)\n",
    "    return root\n",
    "            \n",
    "\n"
   ]
  },
  {
   "cell_type": "code",
   "execution_count": null,
   "metadata": {},
   "outputs": [],
   "source": []
  }
 ],
 "metadata": {
  "kernelspec": {
   "display_name": "Python 3",
   "language": "python",
   "name": "python3"
  },
  "language_info": {
   "codemirror_mode": {
    "name": "ipython",
    "version": 3
   },
   "file_extension": ".py",
   "mimetype": "text/x-python",
   "name": "python",
   "nbconvert_exporter": "python",
   "pygments_lexer": "ipython3",
   "version": "3.7.3"
  }
 },
 "nbformat": 4,
 "nbformat_minor": 2
}
