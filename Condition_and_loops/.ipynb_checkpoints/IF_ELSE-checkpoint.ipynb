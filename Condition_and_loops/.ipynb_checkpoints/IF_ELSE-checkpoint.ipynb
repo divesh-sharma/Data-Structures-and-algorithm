{
 "cells": [
  {
   "cell_type": "markdown",
   "metadata": {},
   "source": [
    "### If Else"
   ]
  },
  {
   "cell_type": "code",
   "execution_count": 1,
   "metadata": {},
   "outputs": [
    {
     "name": "stdout",
     "output_type": "stream",
     "text": [
      "I am inside a if\n",
      "I am inside a if 2\n"
     ]
    }
   ],
   "source": [
    "a = True\n",
    "if a:\n",
    "    print(\"I am inside a if\")\n",
    "    print(\"I am inside a if 2\")\n",
    "else:\n",
    "    print(\"I am inside a else\")"
   ]
  },
  {
   "cell_type": "code",
   "execution_count": 2,
   "metadata": {},
   "outputs": [
    {
     "name": "stdout",
     "output_type": "stream",
     "text": [
      "10\n",
      "10 is even\n"
     ]
    }
   ],
   "source": [
    "# check a number is odd or even\n",
    "n = int(input())\n",
    "if n%2==0:\n",
    "    print(n,\"is even\")\n",
    "else:\n",
    "    print(n,\"is odd\")\n",
    "    "
   ]
  },
  {
   "cell_type": "code",
   "execution_count": null,
   "metadata": {},
   "outputs": [],
   "source": [
    "s = int(input())\n",
    "e = int(input())\n",
    "step = int(input())\n",
    "while s<=e:\n",
    "    c =((s-32)*5)\n",
    "    print(c,\"my c\")\n",
    "    d = c/9\n",
    "    print(s,d)\n",
    "    s = step + s\n",
    "    "
   ]
  },
  {
   "cell_type": "code",
   "execution_count": 15,
   "metadata": {},
   "outputs": [
    {
     "name": "stdout",
     "output_type": "stream",
     "text": [
      "-1.6666666666666667\n"
     ]
    }
   ],
   "source": [
    "c=-15/9\n",
    "print(c)\n"
   ]
  },
  {
   "cell_type": "code",
   "execution_count": null,
   "metadata": {},
   "outputs": [],
   "source": [
    "# Write your code here\n",
    "choice = int(input())\n",
    "while(choice):\n",
    "    if choice>=1 and choice<=5:\n",
    "            a = int(input())\n",
    "            b = int(input())\n",
    "            if choice==1:\n",
    "                print(a+b)\n",
    "            elif choice==2:\n",
    "                print(a-b)\n",
    "            elif choice==3:\n",
    "                print(a*b)\n",
    "            elif choice==4:\n",
    "                print(a//b)\n",
    "            elif choice==5:\n",
    "                print(a%b)\n",
    "            elif choice==6:\n",
    "                exit()\n",
    "            else:\n",
    "                choice = int(intput())\n",
    "    else:\n",
    "        print(\"Invalid Operation\")"
   ]
  },
  {
   "cell_type": "code",
   "execution_count": null,
   "metadata": {},
   "outputs": [],
   "source": [
    "# Write your code here\n",
    "choice = int(input())\n",
    "a = int(input())\n",
    "b = int(input())\n",
    "while(choice):\n",
    "    if choice>=1 and choice<=5:        \n",
    "            if choice==1:\n",
    "                print(a+b)\n",
    "            elif choice==2:\n",
    "                print(a-b)\n",
    "            elif choice==3:\n",
    "                print(a*b)\n",
    "            elif choice==4:\n",
    "                print(a//b)\n",
    "            elif choice==5:\n",
    "                print(a%b)\n",
    "            elif choice==6:\n",
    "                exit()\n",
    "           \n",
    "    else:\n",
    "        print(\"Invalid Operation\")"
   ]
  },
  {
   "cell_type": "code",
   "execution_count": null,
   "metadata": {},
   "outputs": [],
   "source": [
    "print('s')"
   ]
  },
  {
   "cell_type": "code",
   "execution_count": null,
   "metadata": {},
   "outputs": [],
   "source": []
  },
  {
   "cell_type": "code",
   "execution_count": null,
   "metadata": {},
   "outputs": [],
   "source": []
  }
 ],
 "metadata": {
  "kernelspec": {
   "display_name": "Python 3",
   "language": "python",
   "name": "python3"
  },
  "language_info": {
   "codemirror_mode": {
    "name": "ipython",
    "version": 3
   },
   "file_extension": ".py",
   "mimetype": "text/x-python",
   "name": "python",
   "nbconvert_exporter": "python",
   "pygments_lexer": "ipython3",
   "version": "3.7.3"
  }
 },
 "nbformat": 4,
 "nbformat_minor": 2
}
