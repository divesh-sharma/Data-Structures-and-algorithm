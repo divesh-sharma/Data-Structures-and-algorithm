{
 "cells": [
  {
   "cell_type": "code",
   "execution_count": 15,
   "metadata": {},
   "outputs": [
    {
     "name": "stdout",
     "output_type": "stream",
     "text": [
      "19\n",
      "s\n"
     ]
    }
   ],
   "source": [
    "a=19\n",
    "print(a)\n",
    "print('s')"
   ]
  },
  {
   "cell_type": "code",
   "execution_count": 2,
   "metadata": {},
   "outputs": [
    {
     "name": "stdout",
     "output_type": "stream",
     "text": [
      "3\n",
      "2\n",
      "1\n",
      "2\n",
      "6\n"
     ]
    }
   ],
   "source": [
    "# Write your code here\n",
    "choice = int(input())\n",
    "\n",
    "while(choice != 6):\n",
    "    if choice>=1 and choice<=5:\n",
    "            a = int(input())\n",
    "            b = int(input())\n",
    "            if choice==1:\n",
    "                print(a+b)\n",
    "            elif choice==2:\n",
    "                print(a-b)\n",
    "            elif choice==3:\n",
    "                print(a*b)\n",
    "            elif choice==4:\n",
    "                print(a//b)\n",
    "            elif choice==5:\n",
    "                print(a%b)\n",
    "       \n",
    "    else:\n",
    "        print(\"Invalid Operation\")           \n",
    "    choice= int(input())\n",
    " \n",
    "           \n",
    "    "
   ]
  },
  {
   "cell_type": "code",
   "execution_count": 6,
   "metadata": {},
   "outputs": [
    {
     "name": "stdout",
     "output_type": "stream",
     "text": [
      "4\n",
      "4444444\n",
      "4333334\n",
      "4322234\n",
      "4321234\n",
      "4322234\n",
      "4333334\n",
      "4444444\n"
     ]
    }
   ],
   "source": [
    "count=0;\n",
    "n = int(input())\n",
    "for i in range(n):    \n",
    "    count =n;\n",
    "    for j in range(1,n+1):\n",
    "        print(count,end='')\n",
    "        if(count>n-i):\n",
    "            count = count - 1\n",
    "    for  k in range(2,n+1):\n",
    "        if(count ==1):\n",
    "            count = count + 1\n",
    "        print(count,end='')\n",
    "        if(count==k):\n",
    "            count = count + 1\n",
    "    print()      \n",
    "for i in range(n-2,-1,-1):    \n",
    "    count =n;\n",
    "    for j in range(1,n+1):\n",
    "        print(count,end='')\n",
    "        if(count>n-i):\n",
    "            count = count - 1\n",
    "    for  k in range(2,n+1):\n",
    "        if(count ==1):\n",
    "            count = count + 1\n",
    "        print(count,end='')\n",
    "        if(count==k):\n",
    "            count = count + 1\n",
    "    print()       \n",
    "                                                 \n",
    "                        \n",
    "              \n",
    "         \n",
    "     "
   ]
  },
  {
   "cell_type": "code",
   "execution_count": 11,
   "metadata": {},
   "outputs": [
    {
     "name": "stdout",
     "output_type": "stream",
     "text": [
      "5\n",
      "1  2  3  4  5  \n",
      "11  12  13  14  15  \n",
      "21  22  23  24  25  \n",
      "16  17  18  19  20  \n",
      "6  7  8  9  10  \n"
     ]
    }
   ],
   "source": [
    "n = int(input())\n",
    "row = n//2 if n%2==0 else n//2\n",
    "col = n//2 if n%2==0 else (n//2)+1\n",
    "num=1\n",
    "count=0\n",
    "for i in range(col):\n",
    "    num = (n*count)+1\n",
    "    for j in range(n):\n",
    "        print(num,\" \",end=\"\")\n",
    "        num = num + 1\n",
    "    count = count + 2 \n",
    "    print()\n",
    "if(n%2!=0):\n",
    "    count = count -3\n",
    "else:\n",
    "    count = count -1\n",
    "for i in range(row):\n",
    "    num=n*count +1\n",
    "    for j in range(1,n+1):\n",
    "        print(num,\" \",end=\"\")\n",
    "        num = num +1\n",
    "    count = count - 2\n",
    "    print()\n",
    "    \n",
    "                 \n",
    "          "
   ]
  },
  {
   "cell_type": "code",
   "execution_count": 9,
   "metadata": {},
   "outputs": [],
   "source": [
    "row = 10 if 10%2!=0 else 11"
   ]
  },
  {
   "cell_type": "code",
   "execution_count": 10,
   "metadata": {},
   "outputs": [
    {
     "data": {
      "text/plain": [
       "11"
      ]
     },
     "execution_count": 10,
     "metadata": {},
     "output_type": "execute_result"
    }
   ],
   "source": [
    "row"
   ]
  },
  {
   "cell_type": "code",
   "execution_count": null,
   "metadata": {},
   "outputs": [],
   "source": []
  }
 ],
 "metadata": {
  "kernelspec": {
   "display_name": "Python 3",
   "language": "python",
   "name": "python3"
  },
  "language_info": {
   "codemirror_mode": {
    "name": "ipython",
    "version": 3
   },
   "file_extension": ".py",
   "mimetype": "text/x-python",
   "name": "python",
   "nbconvert_exporter": "python",
   "pygments_lexer": "ipython3",
   "version": "3.7.3"
  }
 },
 "nbformat": 4,
 "nbformat_minor": 2
}
