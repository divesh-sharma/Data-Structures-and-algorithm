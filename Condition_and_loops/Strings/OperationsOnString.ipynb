{
 "cells": [
  {
   "cell_type": "markdown",
   "metadata": {},
   "source": [
    "## Split"
   ]
  },
  {
   "cell_type": "code",
   "execution_count": 2,
   "metadata": {},
   "outputs": [
    {
     "name": "stdout",
     "output_type": "stream",
     "text": [
      "['My', 'Name', 'is', 'divesh']\n",
      "['My', 'Name', 'is', 'Divesh']\n"
     ]
    }
   ],
   "source": [
    "str = \"My Name is divesh\"\n",
    "li = str.split()\n",
    "print(li)\n",
    "str1 = \"My,Name,is,Divesh\"\n",
    "li2 = str1.split(',')\n",
    "print(li2)"
   ]
  },
  {
   "cell_type": "code",
   "execution_count": 5,
   "metadata": {},
   "outputs": [
    {
     "name": "stdout",
     "output_type": "stream",
     "text": [
      "['My', 'Name', 'is divesh']\n"
     ]
    }
   ],
   "source": [
    "li3 = str.split(' ',2)\n",
    "print(li3)"
   ]
  },
  {
   "cell_type": "code",
   "execution_count": 7,
   "metadata": {},
   "outputs": [
    {
     "name": "stdout",
     "output_type": "stream",
     "text": [
      "['My', 'Name,is,Divesh']\n"
     ]
    }
   ],
   "source": [
    "li4 = str1.split(',',1)\n",
    "print(li4)"
   ]
  },
  {
   "cell_type": "markdown",
   "metadata": {},
   "source": [
    "## Replace"
   ]
  },
  {
   "cell_type": "code",
   "execution_count": 8,
   "metadata": {},
   "outputs": [
    {
     "name": "stdout",
     "output_type": "stream",
     "text": [
      "My name is Chintu\n",
      "My name is Chintu Chintu Chintu\n",
      "My name is Chintu Chintu Divesh\n"
     ]
    }
   ],
   "source": [
    "str = \"My name is Divesh\"\n",
    "str = str.replace(\"Divesh\",\"Chintu\")\n",
    "print(str)\n",
    "str = \"My name is Divesh Divesh Divesh\"\n",
    "str = str.replace(\"Divesh\",\"Chintu\")\n",
    "print(str)\n",
    "str = \"My name is Divesh Divesh Divesh\"\n",
    "str = str.replace(\"Divesh\",\"Chintu\",2)\n",
    "print(str)"
   ]
  },
  {
   "cell_type": "markdown",
   "metadata": {},
   "source": [
    "### Find"
   ]
  },
  {
   "cell_type": "code",
   "execution_count": 9,
   "metadata": {},
   "outputs": [
    {
     "name": "stdout",
     "output_type": "stream",
     "text": [
      "3\n",
      "11\n",
      "18\n"
     ]
    }
   ],
   "source": [
    "str = \"My Name is DIvesh\"\n",
    "index = str.find(\"Na\")\n",
    "print(index)\n",
    "str = \"My Name is Divesh Divesh Divesh\"\n",
    "index = str.find(\"Divesh\")\n",
    "print(index)\n",
    "str = \"My Name is Divesh Divesh Divesh\"\n",
    "index = str.find(\"Divesh\",12,25)\n",
    "print(index)"
   ]
  },
  {
   "cell_type": "markdown",
   "metadata": {},
   "source": [
    "### lower and upper"
   ]
  },
  {
   "cell_type": "code",
   "execution_count": 10,
   "metadata": {},
   "outputs": [
    {
     "name": "stdout",
     "output_type": "stream",
     "text": [
      "my name is divesh\n",
      "MY NAME IS DIVESH\n"
     ]
    }
   ],
   "source": [
    "str = \"My Name is Divesh\"\n",
    "str = str.lower()\n",
    "print(str)\n",
    "str = str.upper()\n",
    "print(str)"
   ]
  },
  {
   "cell_type": "markdown",
   "metadata": {},
   "source": [
    "### startsWith"
   ]
  },
  {
   "cell_type": "code",
   "execution_count": 16,
   "metadata": {},
   "outputs": [
    {
     "name": "stdout",
     "output_type": "stream",
     "text": [
      "True\n",
      "True\n"
     ]
    }
   ],
   "source": [
    "str = \"My Name is Divesh\"\n",
    "ans = str.startswith(\"My Na\")\n",
    "print(ans)\n",
    "ans = str.startswith(\"Div\",11,24)\n",
    "print(ans)\n",
    "      \n"
   ]
  },
  {
   "cell_type": "code",
   "execution_count": null,
   "metadata": {},
   "outputs": [],
   "source": []
  }
 ],
 "metadata": {
  "kernelspec": {
   "display_name": "Python 3",
   "language": "python",
   "name": "python3"
  },
  "language_info": {
   "codemirror_mode": {
    "name": "ipython",
    "version": 3
   },
   "file_extension": ".py",
   "mimetype": "text/x-python",
   "name": "python",
   "nbconvert_exporter": "python",
   "pygments_lexer": "ipython3",
   "version": "3.7.3"
  }
 },
 "nbformat": 4,
 "nbformat_minor": 2
}
