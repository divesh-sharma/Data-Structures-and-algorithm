{
 "cells": [
  {
   "cell_type": "code",
   "execution_count": 3,
   "metadata": {},
   "outputs": [
    {
     "name": "stdout",
     "output_type": "stream",
     "text": [
      "9 7 14 6\n"
     ]
    }
   ],
   "source": [
    "def countStr(str):\n",
    "    v,c,d,s=0,0,0,0\n",
    "    for char in str:\n",
    "        if((char>='a' and char<='z' or char>='A' and char<='Z')):\n",
    "            char =  char.lower()\n",
    "            if(char=='a' or char=='e' or char=='i' or char=='o' or char=='u'):\n",
    "                v = v + 1\n",
    "            else:\n",
    "                c = c + 1\n",
    "        elif(char>='0' and char<='9'):\n",
    "            d = d + 1\n",
    "        else:\n",
    "            s = s +1\n",
    "    return v,c,d,s         \n",
    "            \n",
    "\n",
    "\n",
    "str = 'abcedabcder 121313 AEIOU @ #32423423'\n",
    "v,c,d,s = countStr(str)\n",
    "print(v,c,d,s)"
   ]
  },
  {
   "cell_type": "code",
   "execution_count": null,
   "metadata": {},
   "outputs": [],
   "source": []
  }
 ],
 "metadata": {
  "kernelspec": {
   "display_name": "Python 3",
   "language": "python",
   "name": "python3"
  },
  "language_info": {
   "codemirror_mode": {
    "name": "ipython",
    "version": 3
   },
   "file_extension": ".py",
   "mimetype": "text/x-python",
   "name": "python",
   "nbconvert_exporter": "python",
   "pygments_lexer": "ipython3",
   "version": "3.7.3"
  }
 },
 "nbformat": 4,
 "nbformat_minor": 2
}
