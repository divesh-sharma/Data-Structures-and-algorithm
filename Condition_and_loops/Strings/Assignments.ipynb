{
 "cells": [
  {
   "cell_type": "markdown",
   "metadata": {},
   "source": [
    "### Permutation"
   ]
  },
  {
   "cell_type": "code",
   "execution_count": 10,
   "metadata": {},
   "outputs": [
    {
     "name": "stdout",
     "output_type": "stream",
     "text": [
      "abbcd\n",
      "abdcc\n",
      "false\n"
     ]
    }
   ],
   "source": [
    "str1 = input()\n",
    "str2 = input()\n",
    "list = [0]*256\n",
    "if(len(str1)==len(str2)):\n",
    "    for i in range(len(str1)):\n",
    "        list[ord(str1[i])] = list[ord(str1[i])] + 1\n",
    "    for j in range(len(str2)):   \n",
    "        list[ord(str2[j])] = list[ord(str2[j])] - 1\n",
    "    for k in range(len(list)):\n",
    "        if(list[k]!=0):\n",
    "            print('false')\n",
    "            break\n",
    "    else:        \n",
    "        print('true')\n",
    "else:\n",
    "    print('false')"
   ]
  },
  {
   "cell_type": "code",
   "execution_count": 8,
   "metadata": {},
   "outputs": [
    {
     "name": "stdout",
     "output_type": "stream",
     "text": [
      "false\n"
     ]
    }
   ],
   "source": [
    "list = [0,0,1,0]\n",
    "for i in range(len(list)):\n",
    "    if(list[i]!=0):\n",
    "        print('false')\n",
    "        break\n",
    "else:\n",
    "    print('true')"
   ]
  },
  {
   "cell_type": "code",
   "execution_count": 11,
   "metadata": {},
   "outputs": [
    {
     "name": "stdout",
     "output_type": "stream",
     "text": [
      "False\n"
     ]
    }
   ],
   "source": [
    "a=True\n",
    "print(not a)"
   ]
  },
  {
   "cell_type": "code",
   "execution_count": 10,
   "metadata": {},
   "outputs": [
    {
     "ename": "SyntaxError",
     "evalue": "invalid syntax (<ipython-input-10-011677733fd5>, line 11)",
     "output_type": "error",
     "traceback": [
      "\u001b[0;36m  File \u001b[0;32m\"<ipython-input-10-011677733fd5>\"\u001b[0;36m, line \u001b[0;32m11\u001b[0m\n\u001b[0;31m    if(count=0):\u001b[0m\n\u001b[0m            ^\u001b[0m\n\u001b[0;31mSyntaxError\u001b[0m\u001b[0;31m:\u001b[0m invalid syntax\n"
     ]
    }
   ],
   "source": [
    "str = input()\n",
    "newStr=''\n",
    "i=0\n",
    "count=0\n",
    "length = len(str)\n",
    "while i<length-1:\n",
    "    cond = newStr.startswith(str[i],count)\n",
    "    if((str[i]==str[i+1]) and (not cond)):\n",
    "        newStr += str[i]\n",
    "        i = i +2\n",
    "        if(count==0):\n",
    "            count = count -1\n",
    "            count=count+1\n",
    "        else:\n",
    "            count = count + 1\n",
    "    elif ((str[i]!=str[i+1]) and (not cond)):\n",
    "        newStr += str[i]\n",
    "        i = i +1\n",
    "        if(count==0):\n",
    "            count = count -1\n",
    "            count=count+1\n",
    "        else:\n",
    "            count = count + 1\n",
    "    else:\n",
    "        i = i + 1\n",
    "    \n",
    "print(newStr)  "
   ]
  },
  {
   "cell_type": "code",
   "execution_count": 2,
   "metadata": {},
   "outputs": [
    {
     "name": "stdout",
     "output_type": "stream",
     "text": [
      "False\n"
     ]
    }
   ],
   "source": [
    "print(not('abc'.startswith('b',1)))"
   ]
  },
  {
   "cell_type": "code",
   "execution_count": null,
   "metadata": {},
   "outputs": [],
   "source": []
  }
 ],
 "metadata": {
  "kernelspec": {
   "display_name": "Python 3",
   "language": "python",
   "name": "python3"
  },
  "language_info": {
   "codemirror_mode": {
    "name": "ipython",
    "version": 3
   },
   "file_extension": ".py",
   "mimetype": "text/x-python",
   "name": "python",
   "nbconvert_exporter": "python",
   "pygments_lexer": "ipython3",
   "version": "3.7.3"
  }
 },
 "nbformat": 4,
 "nbformat_minor": 2
}
