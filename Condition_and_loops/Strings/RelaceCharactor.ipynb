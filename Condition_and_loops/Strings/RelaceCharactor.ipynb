{
 "cells": [
  {
   "cell_type": "code",
   "execution_count": 1,
   "metadata": {},
   "outputs": [
    {
     "name": "stdout",
     "output_type": "stream",
     "text": [
      "fyybbcccyyydydysd\n"
     ]
    }
   ],
   "source": [
    "def replaceChar(str,char1,char2):\n",
    "    newStr=''\n",
    "    for el in str:\n",
    "        if el == char1:\n",
    "            newStr += char2\n",
    "        else:\n",
    "            newStr +=el\n",
    "    return newStr\n",
    "str = \"faabbcccaaadadasd\"\n",
    "print(replaceChar(str,'a','y'))\n"
   ]
  },
  {
   "cell_type": "code",
   "execution_count": null,
   "metadata": {},
   "outputs": [],
   "source": []
  }
 ],
 "metadata": {
  "kernelspec": {
   "display_name": "Python 3",
   "language": "python",
   "name": "python3"
  },
  "language_info": {
   "codemirror_mode": {
    "name": "ipython",
    "version": 3
   },
   "file_extension": ".py",
   "mimetype": "text/x-python",
   "name": "python",
   "nbconvert_exporter": "python",
   "pygments_lexer": "ipython3",
   "version": "3.7.3"
  }
 },
 "nbformat": 4,
 "nbformat_minor": 2
}
