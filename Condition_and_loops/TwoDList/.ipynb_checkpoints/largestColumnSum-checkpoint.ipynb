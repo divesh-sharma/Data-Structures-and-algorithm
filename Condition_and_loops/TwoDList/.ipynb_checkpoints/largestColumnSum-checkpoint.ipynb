{
 "cells": [
  {
   "cell_type": "code",
   "execution_count": 2,
   "metadata": {},
   "outputs": [
    {
     "name": "stdout",
     "output_type": "stream",
     "text": [
      "21 3\n"
     ]
    }
   ],
   "source": [
    "def lar_col_sum(li):\n",
    "    n=len(li)\n",
    "    m=len(li[0])\n",
    "    max_sum=-1\n",
    "    max_col_index=-1\n",
    "    for j in range(m):\n",
    "        sum=0\n",
    "        for i in range(n):\n",
    "            sum +=li[i][j]\n",
    "        if max_sum < sum:\n",
    "            max_sum = sum\n",
    "            max_col_index = j\n",
    "    return max_sum,max_col_index        \n",
    "            \n",
    "\n",
    "\n",
    "\n",
    "li = [[1,2,3,4,],[8,7,6,5],[9,10,11,12]]\n",
    "lar_sum,lar_col_index = lar_col_sum(li)\n",
    "print(lar_sum,lar_col_index)"
   ]
  },
  {
   "cell_type": "code",
   "execution_count": 5,
   "metadata": {},
   "outputs": [
    {
     "name": "stdout",
     "output_type": "stream",
     "text": [
      "[1, 2, 3, 4] My li 1 j 0\n",
      "[8, 7, 6, 5] My li 8 j 0\n",
      "[9, 10, 11, 12] My li 9 j 0\n",
      "[1, 2, 3, 4] My li 2 j 1\n",
      "[8, 7, 6, 5] My li 7 j 1\n",
      "[9, 10, 11, 12] My li 10 j 1\n",
      "[1, 2, 3, 4] My li 3 j 2\n",
      "[8, 7, 6, 5] My li 6 j 2\n",
      "[9, 10, 11, 12] My li 11 j 2\n",
      "[1, 2, 3, 4] My li 4 j 3\n",
      "[8, 7, 6, 5] My li 5 j 3\n",
      "[9, 10, 11, 12] My li 12 j 3\n",
      "21 3\n"
     ]
    }
   ],
   "source": [
    "def lar_col_sum(li):\n",
    "    n=len(li)\n",
    "    m=len(li[0])\n",
    "    max_sum=-1\n",
    "    max_col_index=-1\n",
    "    for j in range(m):\n",
    "        sum=0\n",
    "        for el in li:\n",
    "            print(el,\"My li\",el[j],\"j\",j)\n",
    "            sum +=el[j]\n",
    "        if max_sum < sum:\n",
    "            max_sum = sum\n",
    "            max_col_index = j\n",
    "    return max_sum,max_col_index        \n",
    "            \n",
    "\n",
    "\n",
    "\n",
    "li = [[1,2,3,4,],[8,7,6,5],[9,10,11,12]]\n",
    "lar_sum,lar_col_index = lar_col_sum(li)\n",
    "print(lar_sum,lar_col_index)"
   ]
  },
  {
   "cell_type": "code",
   "execution_count": 7,
   "metadata": {},
   "outputs": [
    {
     "name": "stdout",
     "output_type": "stream",
     "text": [
      "159261037114812"
     ]
    }
   ],
   "source": [
    "li=[[1,2,3,4],[5,6,7,8],[9,10,11,12]]\n",
    "for j in range(4):\n",
    "    for ele in li:\n",
    "        print(ele[j],end = '')\n"
   ]
  },
  {
   "cell_type": "code",
   "execution_count": null,
   "metadata": {},
   "outputs": [],
   "source": []
  }
 ],
 "metadata": {
  "kernelspec": {
   "display_name": "Python 3",
   "language": "python",
   "name": "python3"
  },
  "language_info": {
   "codemirror_mode": {
    "name": "ipython",
    "version": 3
   },
   "file_extension": ".py",
   "mimetype": "text/x-python",
   "name": "python",
   "nbconvert_exporter": "python",
   "pygments_lexer": "ipython3",
   "version": "3.7.3"
  }
 },
 "nbformat": 4,
 "nbformat_minor": 2
}
