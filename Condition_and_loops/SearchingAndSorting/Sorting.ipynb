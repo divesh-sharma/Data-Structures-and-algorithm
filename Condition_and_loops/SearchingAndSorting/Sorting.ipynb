{
 "cells": [
  {
   "cell_type": "markdown",
   "metadata": {},
   "source": [
    "### Selection Sort1"
   ]
  },
  {
   "cell_type": "code",
   "execution_count": 37,
   "metadata": {},
   "outputs": [],
   "source": [
    "def selection_sort(arr):\n",
    "    min=0\n",
    "    index=0\n",
    "    for i in range(len(arr)):\n",
    "        min = arr[i]\n",
    "        for j in range(i+1,len(arr)):\n",
    "            if arr[j] < min:\n",
    "#                 print(arr[j],min,\"i value:\",i)\n",
    "                min = arr[j]\n",
    "                index = j\n",
    "        if arr[i]>min:        \n",
    "            arr[i],arr[index] = min,arr[i] \n",
    "#         print(arr)\n",
    "    for k in range(len(arr)):\n",
    "        print(arr[k],'',end='')"
   ]
  },
  {
   "cell_type": "code",
   "execution_count": 39,
   "metadata": {},
   "outputs": [
    {
     "name": "stdout",
     "output_type": "stream",
     "text": [
      "0 1 2 2 3 4 5 6 "
     ]
    }
   ],
   "source": [
    "li = [0,1,4,2,2,3,6,5]\n",
    "selection_sort(li)"
   ]
  },
  {
   "cell_type": "markdown",
   "metadata": {},
   "source": [
    "### Selection Sort2"
   ]
  },
  {
   "cell_type": "code",
   "execution_count": 45,
   "metadata": {},
   "outputs": [],
   "source": [
    "def selection_sort2(arr):\n",
    "    length = len(arr)\n",
    "    for i in range(length-1):\n",
    "        minIndex = i\n",
    "        for j in range(i+1,length):\n",
    "            if arr[j] < arr[minIndex]:\n",
    "                minIndex = j\n",
    "        arr[i],arr[minIndex]=arr[minIndex],arr[i]\n",
    "    print(arr)\n",
    "    "
   ]
  },
  {
   "cell_type": "code",
   "execution_count": 46,
   "metadata": {},
   "outputs": [
    {
     "name": "stdout",
     "output_type": "stream",
     "text": [
      "[0, 1, 2, 2, 3, 4, 5, 6]\n"
     ]
    }
   ],
   "source": [
    "li = [0,1,4,2,2,3,6,5]\n",
    "selection_sort2(li)"
   ]
  },
  {
   "cell_type": "markdown",
   "metadata": {},
   "source": [
    "### Bubble Sort1"
   ]
  },
  {
   "cell_type": "code",
   "execution_count": 49,
   "metadata": {},
   "outputs": [],
   "source": [
    "def bubble_sort1(arr):\n",
    "    length = len(arr)\n",
    "    for i in range(length-1):\n",
    "        for j in range(length-1):\n",
    "            if arr[j+1]<arr[j]:\n",
    "                arr[j],arr[j+1]=arr[j+1],arr[j]\n",
    "    print(arr)            "
   ]
  },
  {
   "cell_type": "code",
   "execution_count": 52,
   "metadata": {},
   "outputs": [
    {
     "name": "stdout",
     "output_type": "stream",
     "text": [
      "[1, 2, 3, 4, 5, 6]\n"
     ]
    }
   ],
   "source": [
    "li = [6,5,4,3,2,1]\n",
    "bubble_sort1(li)"
   ]
  },
  {
   "cell_type": "markdown",
   "metadata": {},
   "source": [
    "### Bubble Sort2"
   ]
  },
  {
   "cell_type": "code",
   "execution_count": 56,
   "metadata": {},
   "outputs": [],
   "source": [
    "def bubble_sort2(arr):\n",
    "    length = len(arr)\n",
    "    for i in range(length-1):\n",
    "        for j in range(length-1-i):\n",
    "            if arr[j+1]<arr[j]:\n",
    "                arr[j],arr[j+1]=arr[j+1],arr[j]\n",
    "    print(arr)            "
   ]
  },
  {
   "cell_type": "code",
   "execution_count": 57,
   "metadata": {},
   "outputs": [
    {
     "name": "stdout",
     "output_type": "stream",
     "text": [
      "[1, 2, 3, 4, 5, 6]\n"
     ]
    }
   ],
   "source": [
    "li = [6,5,4,3,2,1]\n",
    "bubble_sort2(li)"
   ]
  },
  {
   "cell_type": "markdown",
   "metadata": {},
   "source": [
    "### Insertion Sort1"
   ]
  },
  {
   "cell_type": "code",
   "execution_count": 106,
   "metadata": {},
   "outputs": [],
   "source": [
    "def insertion_sort1(arr):\n",
    "    length = len(arr)\n",
    "    for i in range(1,length):\n",
    "        key = arr[i]\n",
    "        for j in range(i-1,-1,-1):\n",
    "            if key < arr[j]:\n",
    "                arr[j+1] = arr[j]\n",
    "                arr[j]=key\n",
    "            else:\n",
    "                print(\"break\")\n",
    "                break\n",
    "    print(arr)       \n",
    "                \n",
    "                    \n",
    "            "
   ]
  },
  {
   "cell_type": "code",
   "execution_count": 107,
   "metadata": {},
   "outputs": [
    {
     "name": "stdout",
     "output_type": "stream",
     "text": [
      "break\n",
      "break\n",
      "[2, 2, 3, 4, 5, 6, 11]\n"
     ]
    }
   ],
   "source": [
    "arr = [6,5,4,3,2,11,2]\n",
    "insertion_sort1(arr)"
   ]
  },
  {
   "cell_type": "code",
   "execution_count": 109,
   "metadata": {},
   "outputs": [
    {
     "ename": "IndentationError",
     "evalue": "unindent does not match any outer indentation level (<tokenize>, line 11)",
     "output_type": "error",
     "traceback": [
      "\u001b[0;36m  File \u001b[0;32m\"<tokenize>\"\u001b[0;36m, line \u001b[0;32m11\u001b[0m\n\u001b[0;31m    for j in range(i+1,length-count):\u001b[0m\n\u001b[0m    ^\u001b[0m\n\u001b[0;31mIndentationError\u001b[0m\u001b[0;31m:\u001b[0m unindent does not match any outer indentation level\n"
     ]
    }
   ],
   "source": [
    "from sys import stdin\n",
    "\n",
    "def pushZerosAtEnd(arr, n) :\n",
    "    length = len(arr)\n",
    "    # count =-1\n",
    "    lastIndex = length\n",
    "    for i in range(length):\n",
    "        minIndex = i\n",
    "        if arr[i]==0:     \n",
    "            # count = count +1\n",
    "            # print(count,\"count\",i,\"i\",arr[i],\"arr\",arr)\n",
    "            for j in range(i+1,length):\n",
    "                if arr[j]!=0:\n",
    "                    # print(\"j\",j,\"count\",count,\"i\",i)\n",
    "                    arr[minIndex],arr[j]=arr[j],arr[minIndex]                    \n",
    "                    break\n",
    "                \n",
    "                    \n",
    "                    \n",
    "                \n",
    "            \n",
    "    #Your code goes here\n",
    "    #\n",
    "\n",
    "\n",
    "\n",
    "\n",
    "\n",
    "\n",
    "\n",
    "\n",
    "\n",
    "\n",
    "\n",
    "\n",
    "\n",
    "\n",
    "\n",
    "\n",
    "\n",
    "\n",
    "\n",
    "\n",
    "\n",
    "\n",
    "\n",
    "\n",
    "\n",
    "\n",
    "#Taking Input Using Fast I/O\n",
    "def takeInput() :\n",
    "    n = int(stdin.readline().rstrip())\n",
    "\n",
    "    if n == 0:\n",
    "        return list(), 0\n",
    "    \n",
    "    arr = list(map(int, stdin.readline().rstrip().split()))\n",
    "    return arr, n\n",
    "  \n",
    "\n",
    "#to print the array/list\n",
    "def printList(arr, n) : \n",
    "    for i in range(n) :\n",
    "        print(arr[i], end = \" \")\n",
    "\n",
    "    print()\n",
    "\n",
    "\n",
    "#main\n",
    "t = int(stdin.readline().strip())\n",
    "\n",
    "while t > 0 :\n",
    "\n",
    "    arr, n = takeInput()\n",
    "\n",
    "    pushZerosAtEnd(arr, n)\n",
    "    printList(arr, n)\n",
    "\n",
    "    t -= 1"
   ]
  },
  {
   "cell_type": "code",
   "execution_count": 111,
   "metadata": {},
   "outputs": [
    {
     "ename": "IndentationError",
     "evalue": "unindent does not match any outer indentation level (<tokenize>, line 15)",
     "output_type": "error",
     "traceback": [
      "\u001b[0;36m  File \u001b[0;32m\"<tokenize>\"\u001b[0;36m, line \u001b[0;32m15\u001b[0m\n\u001b[0;31m    lastIndex = lastIndex - 1\u001b[0m\n\u001b[0m    ^\u001b[0m\n\u001b[0;31mIndentationError\u001b[0m\u001b[0;31m:\u001b[0m unindent does not match any outer indentation level\n"
     ]
    }
   ],
   "source": [
    "from sys import stdin\n",
    "\n",
    "def pushZerosAtEnd(arr, n) :\n",
    "    length = len(arr)\n",
    "    # count =-1\n",
    "    count = 0\n",
    "    lastIndex = length -1\n",
    "    for i in range(length):\n",
    "        if arr[i]==0 && i !=lastIndex:\n",
    "            if arr[lastIndex] !=0:\n",
    "                arr[i],arr[lastIndex]=arr[lastIndex],arr[i]\n",
    "                lastIndex = lastIndex - 1\n",
    "            else if arr[lastIndex] ==0:\n",
    "                 arr[i],arr[lastIndex]=arr[lastIndex],arr[i]\n",
    "                lastIndex = lastIndex - 1\n",
    "                \n",
    "            \n",
    "            \n",
    "            \n",
    "                \n",
    "                    \n",
    "                    \n",
    "                \n",
    "            \n",
    "    #Your code goes here\n",
    "    #\n",
    "\n",
    "\n",
    "\n",
    "\n",
    "\n",
    "\n",
    "\n",
    "\n",
    "\n",
    "\n",
    "\n",
    "\n",
    "\n",
    "\n",
    "\n",
    "\n",
    "\n",
    "\n",
    "\n",
    "\n",
    "\n",
    "\n",
    "\n",
    "\n",
    "\n",
    "\n",
    "#Taking Input Using Fast I/O\n",
    "def takeInput() :\n",
    "    n = int(stdin.readline().rstrip())\n",
    "\n",
    "    if n == 0:\n",
    "        return list(), 0\n",
    "    \n",
    "    arr = list(map(int, stdin.readline().rstrip().split()))\n",
    "    return arr, n\n",
    "  \n",
    "\n",
    "#to print the array/list\n",
    "def printList(arr, n) : \n",
    "    for i in range(n) :\n",
    "        print(arr[i], end = \" \")\n",
    "\n",
    "    print()\n",
    "\n",
    "\n",
    "#main\n",
    "t = int(stdin.readline().strip())\n",
    "\n",
    "while t > 0 :\n",
    "\n",
    "    arr, n = takeInput()\n",
    "\n",
    "    pushZerosAtEnd(arr, n)\n",
    "    printList(arr, n)\n",
    "\n",
    "    t -= 1"
   ]
  },
  {
   "cell_type": "code",
   "execution_count": 112,
   "metadata": {},
   "outputs": [
    {
     "name": "stdout",
     "output_type": "stream",
     "text": [
      "false\n"
     ]
    }
   ],
   "source": [
    "if 0 !=0:\n",
    "    print(\"true\")\n",
    "else:\n",
    "    print(\"false\")"
   ]
  },
  {
   "cell_type": "code",
   "execution_count": null,
   "metadata": {},
   "outputs": [],
   "source": []
  }
 ],
 "metadata": {
  "kernelspec": {
   "display_name": "Python 3",
   "language": "python",
   "name": "python3"
  },
  "language_info": {
   "codemirror_mode": {
    "name": "ipython",
    "version": 3
   },
   "file_extension": ".py",
   "mimetype": "text/x-python",
   "name": "python",
   "nbconvert_exporter": "python",
   "pygments_lexer": "ipython3",
   "version": "3.7.3"
  }
 },
 "nbformat": 4,
 "nbformat_minor": 2
}
