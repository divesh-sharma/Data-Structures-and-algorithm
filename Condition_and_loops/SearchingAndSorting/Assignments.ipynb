{
 "cells": [
  {
   "cell_type": "code",
   "execution_count": 9,
   "metadata": {},
   "outputs": [],
   "source": [
    "def sort012(arr, n) :\n",
    "    #Your code goes here\n",
    "    length = len(arr) \n",
    "    i=0\n",
    "    nz=0\n",
    "    zt=length-1\n",
    "    while i < length:\n",
    "        if arr[i] ==0:\n",
    "            arr[nz],arr[i] = arr[i],arr[nz]\n",
    "            nz = nz + 1\n",
    "        elif arr[i] ==2:\n",
    "            arr[i],arr[zt] = arr[zt],arr[i]\n",
    "            zt = zt - 1\n",
    "        i = i +1 \n",
    "    print(arr)"
   ]
  },
  {
   "cell_type": "code",
   "execution_count": 8,
   "metadata": {},
   "outputs": [
    {
     "name": "stdout",
     "output_type": "stream",
     "text": [
      "[0, 0, 2, 2, 2, 1, 0]\n"
     ]
    }
   ],
   "source": [
    "arr = [2,2,0,1,2,0,0]\n",
    "sort012(arr,10)"
   ]
  },
  {
   "cell_type": "markdown",
   "metadata": {},
   "source": [
    "### Reverse Array\n"
   ]
  },
  {
   "cell_type": "code",
   "execution_count": 10,
   "metadata": {},
   "outputs": [],
   "source": [
    "def reverse(arr,n):\n",
    "    i=0\n",
    "    length = len(arr)\n",
    "    while i < length//2:\n",
    "        arr[i],arr[length-1-i] = arr[length-1-i],arr[i]\n",
    "        i=i+1\n",
    "    print(arr)    "
   ]
  },
  {
   "cell_type": "code",
   "execution_count": 11,
   "metadata": {},
   "outputs": [
    {
     "name": "stdout",
     "output_type": "stream",
     "text": [
      "[8, 7, 6, 5, 4, 3, 2, 1]\n"
     ]
    }
   ],
   "source": [
    "arr = [1,2,3,4,5,6,7,8]\n",
    "reverse(arr,10)"
   ]
  },
  {
   "cell_type": "code",
   "execution_count": null,
   "metadata": {},
   "outputs": [],
   "source": []
  }
 ],
 "metadata": {
  "kernelspec": {
   "display_name": "Python 3",
   "language": "python",
   "name": "python3"
  },
  "language_info": {
   "codemirror_mode": {
    "name": "ipython",
    "version": 3
   },
   "file_extension": ".py",
   "mimetype": "text/x-python",
   "name": "python",
   "nbconvert_exporter": "python",
   "pygments_lexer": "ipython3",
   "version": "3.7.3"
  }
 },
 "nbformat": 4,
 "nbformat_minor": 2
}
