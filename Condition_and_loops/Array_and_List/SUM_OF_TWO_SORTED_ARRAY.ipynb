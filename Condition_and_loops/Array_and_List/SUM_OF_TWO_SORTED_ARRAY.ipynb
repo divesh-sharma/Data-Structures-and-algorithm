{
 "cells": [
  {
   "cell_type": "code",
   "execution_count": 36,
   "metadata": {},
   "outputs": [],
   "source": [
    "def sortTwoArray(arr1,arr2,output):\n",
    "    i=0\n",
    "    j=0\n",
    "    k=0\n",
    "    len1 = len(arr1)\n",
    "    len2 = len(arr2)\n",
    "    while i<len1 and j < len2:\n",
    "        if arr1[i]>arr2[j]:\n",
    "            output[k] = arr2[j]\n",
    "            k = k + 1\n",
    "            j = j +1\n",
    "            print(\"j\",j)\n",
    "        else:\n",
    "            output[k] = arr1[i]\n",
    "            k = k + 1\n",
    "            i = i + 1        \n",
    "    if i < len1:\n",
    "        while i<len1:\n",
    "            output[k] = arr1[i]\n",
    "            k = k + 1\n",
    "            i = i + 1\n",
    "    elif j < len2:\n",
    "         while j<len2:\n",
    "            output[k] = arr2[j]\n",
    "            k = k + 1\n",
    "            j = j + 1   \n",
    "            \n",
    "    print(output)        \n",
    "    "
   ]
  },
  {
   "cell_type": "code",
   "execution_count": 37,
   "metadata": {},
   "outputs": [
    {
     "name": "stdout",
     "output_type": "stream",
     "text": [
      "j 1\n",
      "j 2\n",
      "j 3\n",
      "j 4\n",
      "j 5\n",
      "j 6\n",
      "[1, 4, 5, 9, 12, 16, 17, 29, 34, 35, 38]\n"
     ]
    }
   ],
   "source": [
    "arr1 = [4,9,17,29,38]\n",
    "arr2 = [1,5,12,16,34,35]\n",
    "output = (len(arr1)+len(arr2))*[0]\n",
    "sortTwoArray(arr1,arr2,output)"
   ]
  },
  {
   "cell_type": "markdown",
   "metadata": {},
   "source": [
    "### Second largest"
   ]
  },
  {
   "cell_type": "code",
   "execution_count": 54,
   "metadata": {},
   "outputs": [],
   "source": [
    "def secondLargestElement(arr, n):\n",
    "    #Your code goes here\n",
    "    i=0;\n",
    "    length = len(arr)\n",
    "    max1=-2147483648\n",
    "    max2=-2147483648\n",
    "    while i<=(length//2):\n",
    "        if max1<=arr[i]:\n",
    "            max1 = arr[i]\n",
    "        if max2 <= arr[length-1-i]:\n",
    "            max2 = arr[length-1-i]\n",
    "        i = i + 1    \n",
    "    if max1>max2:\n",
    "        return max2\n",
    "    else:\n",
    "        return max1"
   ]
  },
  {
   "cell_type": "code",
   "execution_count": 55,
   "metadata": {},
   "outputs": [
    {
     "name": "stdout",
     "output_type": "stream",
     "text": [
      "9\n"
     ]
    }
   ],
   "source": [
    "arr = [8,9,9,1,7,5,5,10,1,0]\n",
    "print(secondLargestElement(arr,10))\n"
   ]
  },
  {
   "cell_type": "code",
   "execution_count": 63,
   "metadata": {},
   "outputs": [],
   "source": [
    "def pushZerosAtEnd(arr, n) :\n",
    "    length = len(arr)\n",
    "    count =0\n",
    "    output = [0]*(length)\n",
    "    i=0\n",
    "    k=0\n",
    "    j=0\n",
    "    while i<length:\n",
    "        if arr[i] != 0:\n",
    "            output[k] =arr[i]\n",
    "            k=k+1\n",
    "        else:\n",
    "            count = count + 1\n",
    "        i = i + 1\n",
    "    while j<count:\n",
    "        output[k]=0\n",
    "        j = j +1    \n",
    "    arr = output\n",
    "    print(\"output\",output)"
   ]
  },
  {
   "cell_type": "code",
   "execution_count": 64,
   "metadata": {},
   "outputs": [
    {
     "name": "stdout",
     "output_type": "stream",
     "text": [
      "output [5, 7, 4, 8, 1, 3, 7, 2, 0, 0, 0]\n"
     ]
    }
   ],
   "source": [
    "arr = [5,0,7,4,8,1,3,0,7,2,0] \n",
    "pushZerosAtEnd(arr,11)\n",
    "# print(arr)"
   ]
  },
  {
   "cell_type": "code",
   "execution_count": null,
   "metadata": {},
   "outputs": [],
   "source": []
  }
 ],
 "metadata": {
  "kernelspec": {
   "display_name": "Python 3",
   "language": "python",
   "name": "python3"
  },
  "language_info": {
   "codemirror_mode": {
    "name": "ipython",
    "version": 3
   },
   "file_extension": ".py",
   "mimetype": "text/x-python",
   "name": "python",
   "nbconvert_exporter": "python",
   "pygments_lexer": "ipython3",
   "version": "3.7.3"
  }
 },
 "nbformat": 4,
 "nbformat_minor": 2
}
